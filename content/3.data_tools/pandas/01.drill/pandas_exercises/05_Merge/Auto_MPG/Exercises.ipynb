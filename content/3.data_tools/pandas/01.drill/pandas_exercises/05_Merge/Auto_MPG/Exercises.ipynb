{
 "cells": [
  {
   "cell_type": "markdown",
   "metadata": {},
   "source": [
    "# MPG Cars"
   ]
  },
  {
   "cell_type": "markdown",
   "metadata": {},
   "source": [
    "### Introduction:\n",
    "\n",
    "The following exercise utilizes data from [UC Irvine Machine Learning Repository](https://archive.ics.uci.edu/ml/datasets/Auto+MPG)\n",
    "\n",
    "### Step 1. Import the necessary libraries"
   ]
  },
  {
   "cell_type": "code",
   "execution_count": 50,
   "metadata": {
    "collapsed": false
   },
   "outputs": [],
   "source": [
    "import pandas as pd\n",
    "import numpy as np\n",
    "import random"
   ]
  },
  {
   "cell_type": "markdown",
   "metadata": {},
   "source": [
    "### Step 2. Import the first dataset [cars1](https://raw.githubusercontent.com/guipsamora/pandas_exercises/master/05_Merge/Auto_MPG/cars1.csv) and [cars2](https://raw.githubusercontent.com/guipsamora/pandas_exercises/master/05_Merge/Auto_MPG/cars2.csv).  "
   ]
  },
  {
   "cell_type": "markdown",
   "metadata": {},
   "source": [
    "   ### Step 3. Assign each to a variable called cars1 and cars2"
   ]
  },
  {
   "cell_type": "code",
   "execution_count": 33,
   "metadata": {
    "collapsed": false
   },
   "outputs": [],
   "source": [
    "url1 = \"https://raw.githubusercontent.com/guipsamora/pandas_exercises/master/05_Merge/Auto_MPG/cars1.csv\"\n",
    "cars1 = pd.read_csv(url1)\n",
    "url2 = \"https://raw.githubusercontent.com/guipsamora/pandas_exercises/master/05_Merge/Auto_MPG/cars2.csv\"\n",
    "cars2 = pd.read_csv(url2)"
   ]
  },
  {
   "cell_type": "markdown",
   "metadata": {},
   "source": [
    "### Step 4. Oops, it seems our first dataset has some unnamed blank columns, fix cars1"
   ]
  },
  {
   "cell_type": "code",
   "execution_count": 34,
   "metadata": {
    "collapsed": false
   },
   "outputs": [
    {
     "data": {
      "text/html": [
       "<div>\n",
       "<style scoped>\n",
       "    .dataframe tbody tr th:only-of-type {\n",
       "        vertical-align: middle;\n",
       "    }\n",
       "\n",
       "    .dataframe tbody tr th {\n",
       "        vertical-align: top;\n",
       "    }\n",
       "\n",
       "    .dataframe thead th {\n",
       "        text-align: right;\n",
       "    }\n",
       "</style>\n",
       "<table border=\"1\" class=\"dataframe\">\n",
       "  <thead>\n",
       "    <tr style=\"text-align: right;\">\n",
       "      <th></th>\n",
       "      <th>mpg</th>\n",
       "      <th>cylinders</th>\n",
       "      <th>displacement</th>\n",
       "      <th>horsepower</th>\n",
       "      <th>weight</th>\n",
       "      <th>acceleration</th>\n",
       "      <th>model</th>\n",
       "      <th>origin</th>\n",
       "      <th>car</th>\n",
       "    </tr>\n",
       "  </thead>\n",
       "  <tbody>\n",
       "    <tr>\n",
       "      <th>0</th>\n",
       "      <td>18.0</td>\n",
       "      <td>8</td>\n",
       "      <td>307</td>\n",
       "      <td>130</td>\n",
       "      <td>3504</td>\n",
       "      <td>12.0</td>\n",
       "      <td>70</td>\n",
       "      <td>1</td>\n",
       "      <td>chevrolet chevelle malibu</td>\n",
       "    </tr>\n",
       "    <tr>\n",
       "      <th>1</th>\n",
       "      <td>15.0</td>\n",
       "      <td>8</td>\n",
       "      <td>350</td>\n",
       "      <td>165</td>\n",
       "      <td>3693</td>\n",
       "      <td>11.5</td>\n",
       "      <td>70</td>\n",
       "      <td>1</td>\n",
       "      <td>buick skylark 320</td>\n",
       "    </tr>\n",
       "    <tr>\n",
       "      <th>2</th>\n",
       "      <td>18.0</td>\n",
       "      <td>8</td>\n",
       "      <td>318</td>\n",
       "      <td>150</td>\n",
       "      <td>3436</td>\n",
       "      <td>11.0</td>\n",
       "      <td>70</td>\n",
       "      <td>1</td>\n",
       "      <td>plymouth satellite</td>\n",
       "    </tr>\n",
       "    <tr>\n",
       "      <th>3</th>\n",
       "      <td>16.0</td>\n",
       "      <td>8</td>\n",
       "      <td>304</td>\n",
       "      <td>150</td>\n",
       "      <td>3433</td>\n",
       "      <td>12.0</td>\n",
       "      <td>70</td>\n",
       "      <td>1</td>\n",
       "      <td>amc rebel sst</td>\n",
       "    </tr>\n",
       "    <tr>\n",
       "      <th>4</th>\n",
       "      <td>17.0</td>\n",
       "      <td>8</td>\n",
       "      <td>302</td>\n",
       "      <td>140</td>\n",
       "      <td>3449</td>\n",
       "      <td>10.5</td>\n",
       "      <td>70</td>\n",
       "      <td>1</td>\n",
       "      <td>ford torino</td>\n",
       "    </tr>\n",
       "    <tr>\n",
       "      <th>...</th>\n",
       "      <td>...</td>\n",
       "      <td>...</td>\n",
       "      <td>...</td>\n",
       "      <td>...</td>\n",
       "      <td>...</td>\n",
       "      <td>...</td>\n",
       "      <td>...</td>\n",
       "      <td>...</td>\n",
       "      <td>...</td>\n",
       "    </tr>\n",
       "    <tr>\n",
       "      <th>193</th>\n",
       "      <td>24.0</td>\n",
       "      <td>6</td>\n",
       "      <td>200</td>\n",
       "      <td>81</td>\n",
       "      <td>3012</td>\n",
       "      <td>17.6</td>\n",
       "      <td>76</td>\n",
       "      <td>1</td>\n",
       "      <td>ford maverick</td>\n",
       "    </tr>\n",
       "    <tr>\n",
       "      <th>194</th>\n",
       "      <td>22.5</td>\n",
       "      <td>6</td>\n",
       "      <td>232</td>\n",
       "      <td>90</td>\n",
       "      <td>3085</td>\n",
       "      <td>17.6</td>\n",
       "      <td>76</td>\n",
       "      <td>1</td>\n",
       "      <td>amc hornet</td>\n",
       "    </tr>\n",
       "    <tr>\n",
       "      <th>195</th>\n",
       "      <td>29.0</td>\n",
       "      <td>4</td>\n",
       "      <td>85</td>\n",
       "      <td>52</td>\n",
       "      <td>2035</td>\n",
       "      <td>22.2</td>\n",
       "      <td>76</td>\n",
       "      <td>1</td>\n",
       "      <td>chevrolet chevette</td>\n",
       "    </tr>\n",
       "    <tr>\n",
       "      <th>196</th>\n",
       "      <td>24.5</td>\n",
       "      <td>4</td>\n",
       "      <td>98</td>\n",
       "      <td>60</td>\n",
       "      <td>2164</td>\n",
       "      <td>22.1</td>\n",
       "      <td>76</td>\n",
       "      <td>1</td>\n",
       "      <td>chevrolet woody</td>\n",
       "    </tr>\n",
       "    <tr>\n",
       "      <th>197</th>\n",
       "      <td>29.0</td>\n",
       "      <td>4</td>\n",
       "      <td>90</td>\n",
       "      <td>70</td>\n",
       "      <td>1937</td>\n",
       "      <td>14.2</td>\n",
       "      <td>76</td>\n",
       "      <td>2</td>\n",
       "      <td>vw rabbit</td>\n",
       "    </tr>\n",
       "  </tbody>\n",
       "</table>\n",
       "<p>198 rows × 9 columns</p>\n",
       "</div>"
      ],
      "text/plain": [
       "      mpg  cylinders  displacement horsepower  weight  acceleration  model  \\\n",
       "0    18.0          8           307        130    3504          12.0     70   \n",
       "1    15.0          8           350        165    3693          11.5     70   \n",
       "2    18.0          8           318        150    3436          11.0     70   \n",
       "3    16.0          8           304        150    3433          12.0     70   \n",
       "4    17.0          8           302        140    3449          10.5     70   \n",
       "..    ...        ...           ...        ...     ...           ...    ...   \n",
       "193  24.0          6           200         81    3012          17.6     76   \n",
       "194  22.5          6           232         90    3085          17.6     76   \n",
       "195  29.0          4            85         52    2035          22.2     76   \n",
       "196  24.5          4            98         60    2164          22.1     76   \n",
       "197  29.0          4            90         70    1937          14.2     76   \n",
       "\n",
       "     origin                        car  \n",
       "0         1  chevrolet chevelle malibu  \n",
       "1         1          buick skylark 320  \n",
       "2         1         plymouth satellite  \n",
       "3         1              amc rebel sst  \n",
       "4         1                ford torino  \n",
       "..      ...                        ...  \n",
       "193       1              ford maverick  \n",
       "194       1                 amc hornet  \n",
       "195       1         chevrolet chevette  \n",
       "196       1            chevrolet woody  \n",
       "197       2                  vw rabbit  \n",
       "\n",
       "[198 rows x 9 columns]"
      ]
     },
     "execution_count": 34,
     "metadata": {},
     "output_type": "execute_result"
    }
   ],
   "source": [
    "cars1 = cars1.dropna(axis=1)\n",
    "cars1"
   ]
  },
  {
   "cell_type": "markdown",
   "metadata": {},
   "source": [
    "### Step 5. What is the number of observations in each dataset?"
   ]
  },
  {
   "cell_type": "code",
   "execution_count": 40,
   "metadata": {
    "collapsed": false
   },
   "outputs": [
    {
     "name": "stdout",
     "output_type": "stream",
     "text": [
      "(198, 9)\n",
      "(200, 9)\n"
     ]
    }
   ],
   "source": [
    "print(cars1.shape)\n",
    "print(cars2.shape)"
   ]
  },
  {
   "cell_type": "markdown",
   "metadata": {},
   "source": [
    "### Step 6. Join cars1 and cars2 into a single DataFrame called cars"
   ]
  },
  {
   "cell_type": "code",
   "execution_count": 48,
   "metadata": {
    "collapsed": false
   },
   "outputs": [
    {
     "data": {
      "text/plain": [
       "[      mpg  cylinders  displacement horsepower  weight  acceleration  model  \\\n",
       " 0    18.0          8           307        130    3504          12.0     70   \n",
       " 1    15.0          8           350        165    3693          11.5     70   \n",
       " 2    18.0          8           318        150    3436          11.0     70   \n",
       " 3    16.0          8           304        150    3433          12.0     70   \n",
       " 4    17.0          8           302        140    3449          10.5     70   \n",
       " ..    ...        ...           ...        ...     ...           ...    ...   \n",
       " 193  24.0          6           200         81    3012          17.6     76   \n",
       " 194  22.5          6           232         90    3085          17.6     76   \n",
       " 195  29.0          4            85         52    2035          22.2     76   \n",
       " 196  24.5          4            98         60    2164          22.1     76   \n",
       " 197  29.0          4            90         70    1937          14.2     76   \n",
       " \n",
       "      origin                        car  \n",
       " 0         1  chevrolet chevelle malibu  \n",
       " 1         1          buick skylark 320  \n",
       " 2         1         plymouth satellite  \n",
       " 3         1              amc rebel sst  \n",
       " 4         1                ford torino  \n",
       " ..      ...                        ...  \n",
       " 193       1              ford maverick  \n",
       " 194       1                 amc hornet  \n",
       " 195       1         chevrolet chevette  \n",
       " 196       1            chevrolet woody  \n",
       " 197       2                  vw rabbit  \n",
       " \n",
       " [198 rows x 9 columns],\n",
       "       mpg  cylinders  displacement horsepower  weight  acceleration  model  \\\n",
       " 0    33.0          4            91         53    1795          17.4     76   \n",
       " 1    20.0          6           225        100    3651          17.7     76   \n",
       " 2    18.0          6           250         78    3574          21.0     76   \n",
       " 3    18.5          6           250        110    3645          16.2     76   \n",
       " 4    17.5          6           258         95    3193          17.8     76   \n",
       " ..    ...        ...           ...        ...     ...           ...    ...   \n",
       " 195  27.0          4           140         86    2790          15.6     82   \n",
       " 196  44.0          4            97         52    2130          24.6     82   \n",
       " 197  32.0          4           135         84    2295          11.6     82   \n",
       " 198  28.0          4           120         79    2625          18.6     82   \n",
       " 199  31.0          4           119         82    2720          19.4     82   \n",
       " \n",
       "      origin                 car  \n",
       " 0         3         honda civic  \n",
       " 1         1      dodge aspen se  \n",
       " 2         1   ford granada ghia  \n",
       " 3         1  pontiac ventura sj  \n",
       " 4         1       amc pacer d/l  \n",
       " ..      ...                 ...  \n",
       " 195       1     ford mustang gl  \n",
       " 196       2           vw pickup  \n",
       " 197       1       dodge rampage  \n",
       " 198       1         ford ranger  \n",
       " 199       1          chevy s-10  \n",
       " \n",
       " [200 rows x 9 columns]]"
      ]
     },
     "execution_count": 48,
     "metadata": {},
     "output_type": "execute_result"
    }
   ],
   "source": [
    "cars = [cars1, cars2]\n",
    "cars"
   ]
  },
  {
   "cell_type": "markdown",
   "metadata": {},
   "source": [
    "### Step 7. Oops, there is a column missing, called owners. Create a random number Series from 15,000 to 73,000."
   ]
  },
  {
   "cell_type": "code",
   "execution_count": 96,
   "metadata": {
    "collapsed": false
   },
   "outputs": [
    {
     "data": {
      "text/plain": [
       "array([21072, 68245, 45160, 47875, 41261, 72015, 67007, 32694, 39213,\n",
       "       26087, 28143, 58282, 17255, 39168, 50715, 55987, 34418, 33911,\n",
       "       26893, 55503, 51043, 25946, 39143, 43861, 47632, 15660, 66135,\n",
       "       16730, 50766, 54505, 46349, 45940, 31988, 35409, 53766, 56807,\n",
       "       28066, 62325, 44488, 47643, 19415, 67980, 37845, 56914, 58101,\n",
       "       72758, 46060, 47383, 22813, 61749, 62120, 29306, 37541, 41427,\n",
       "       55200, 53518, 37925, 15336, 17450, 58776, 63817, 25209, 26687,\n",
       "       68943, 59730, 64063, 20492, 60073, 40333, 49759, 55229, 54398,\n",
       "       56310, 15980, 15748, 55976, 34964, 46876, 19021, 58018, 36328,\n",
       "       37657, 57344, 44682, 61094, 17235, 66565, 26619, 56878, 18933,\n",
       "       38418, 53049, 28423, 25990, 67957, 55610, 44430, 71251, 23176,\n",
       "       27250, 48523, 60460, 51858, 40696, 70419, 49568, 63832, 47685,\n",
       "       62155, 61177, 33318, 65185, 60817, 32329, 44424, 29045, 43265,\n",
       "       40273, 43529, 57855, 42664, 46618, 36571, 61796, 16108, 66840,\n",
       "       27560, 41457, 34216, 60120, 34974, 26136, 47731, 17364, 49664,\n",
       "       45949, 33065, 41236, 41532, 41774, 54100, 47354, 66632, 31928,\n",
       "       44277, 36629, 45796, 19709, 48203, 27442, 18833, 71231, 44890,\n",
       "       18677, 26652, 59761, 15280, 66382, 48149, 38187, 64287, 20198,\n",
       "       54624, 44111, 45956, 50122, 25810, 32321, 53520, 68686, 71877,\n",
       "       41251, 21868, 59276, 69540, 27408, 27777, 49132, 26194, 48018,\n",
       "       53633, 47102, 55647, 28894, 40658, 65229, 61716, 46279, 39663,\n",
       "       39536, 63851, 60452, 25231, 71804, 51217, 46051, 16782, 34601,\n",
       "       16867, 48354, 35114, 25697, 18717, 45555, 58751, 24987, 21080,\n",
       "       53022, 68580, 65739, 52547, 59395, 20984, 29666, 53315, 53625,\n",
       "       28946, 34241, 36511, 58678, 57903, 65379, 47035, 56484, 25266,\n",
       "       23914, 54877, 67252, 26567, 17316, 45729, 56442, 49954, 44192,\n",
       "       17733, 18745, 72861, 49343, 42383, 36016, 68983, 51425, 70012,\n",
       "       59209, 32275, 64021, 38329, 54512, 38585, 20503, 33465, 68511,\n",
       "       38691, 48526, 45229, 28333, 39433, 52508, 44818, 21972, 56453,\n",
       "       30717, 18013, 57008, 33147, 25645, 26024, 53692, 29407, 68278,\n",
       "       31456, 48093, 40288, 30625, 53899, 43196, 31852, 58866, 46108,\n",
       "       71667, 50667, 38255, 40444, 40708, 21049, 61539, 43820, 41208,\n",
       "       32803, 56386, 59492, 15563, 24881, 57234, 55984, 32140, 47310,\n",
       "       30571, 15914, 15439, 44807, 54081, 59074, 18442, 26815, 23187,\n",
       "       43419, 54284, 22849, 33116, 35456, 55228, 54969, 37881, 18664,\n",
       "       38156, 26542, 50497, 44629, 36281, 17562, 27007, 58867, 50614,\n",
       "       34924, 19250, 40511, 69599, 63260, 54649, 18666, 42672, 33395,\n",
       "       55678, 59958, 16745, 71325, 52541, 18048, 44199, 43782, 25214,\n",
       "       43318, 39231, 70211, 29285, 57153, 71304, 30275, 64618, 59395,\n",
       "       25981, 24305, 58406, 16804, 51345, 62710, 26934, 35566, 32524,\n",
       "       45617, 46975, 65566, 43688, 70290, 39016, 33203, 18633, 31934,\n",
       "       18762, 39999, 39859, 69754, 19564, 45613, 29365, 33720, 20347,\n",
       "       50565, 58425, 37939, 59161, 28080, 46486, 32491, 58536, 37980,\n",
       "       27410, 53465, 17678, 39322, 17588, 26266, 66421, 53537, 21825,\n",
       "       17787, 54371])"
      ]
     },
     "execution_count": 96,
     "metadata": {},
     "output_type": "execute_result"
    }
   ],
   "source": [
    "series = np.random.randint(15000, 73000, size=398)\n",
    "series"
   ]
  },
  {
   "cell_type": "markdown",
   "metadata": {},
   "source": [
    "### Step 8. Add the column owners to cars"
   ]
  },
  {
   "cell_type": "code",
   "execution_count": 97,
   "metadata": {
    "collapsed": false
   },
   "outputs": [
    {
     "ename": "TypeError",
     "evalue": "list indices must be integers or slices, not str",
     "output_type": "error",
     "traceback": [
      "\u001b[0;31m---------------------------------------------------------------------------\u001b[0m",
      "\u001b[0;31mTypeError\u001b[0m                                 Traceback (most recent call last)",
      "\u001b[1;32m/Users/Jorg/BeCode/Theano-4/content/3.data_tools/pandas/01.drill/pandas_exercises/05_Merge/Auto_MPG/Exercises.ipynb Cell 16'\u001b[0m in \u001b[0;36m<cell line: 1>\u001b[0;34m()\u001b[0m\n\u001b[0;32m----> <a href='vscode-notebook-cell:/Users/Jorg/BeCode/Theano-4/content/3.data_tools/pandas/01.drill/pandas_exercises/05_Merge/Auto_MPG/Exercises.ipynb#ch0000015?line=0'>1</a>\u001b[0m cars[\u001b[39m'\u001b[39m\u001b[39mowners\u001b[39m\u001b[39m'\u001b[39m] \u001b[39m=\u001b[39m series\n\u001b[1;32m      <a href='vscode-notebook-cell:/Users/Jorg/BeCode/Theano-4/content/3.data_tools/pandas/01.drill/pandas_exercises/05_Merge/Auto_MPG/Exercises.ipynb#ch0000015?line=1'>2</a>\u001b[0m cars\n",
      "\u001b[0;31mTypeError\u001b[0m: list indices must be integers or slices, not str"
     ]
    }
   ],
   "source": [
    "cars['owners'] = series\n",
    "cars"
   ]
  },
  {
   "cell_type": "code",
   "execution_count": null,
   "metadata": {},
   "outputs": [],
   "source": []
  }
 ],
 "metadata": {
  "anaconda-cloud": {},
  "interpreter": {
   "hash": "aee8b7b246df8f9039afb4144a1f6fd8d2ca17a180786b69acc140d282b71a49"
  },
  "kernelspec": {
   "display_name": "Python 3.10.4 64-bit",
   "language": "python",
   "name": "python3"
  },
  "language_info": {
   "codemirror_mode": {
    "name": "ipython",
    "version": 3
   },
   "file_extension": ".py",
   "mimetype": "text/x-python",
   "name": "python",
   "nbconvert_exporter": "python",
   "pygments_lexer": "ipython3",
   "version": "3.10.4"
  }
 },
 "nbformat": 4,
 "nbformat_minor": 0
}
