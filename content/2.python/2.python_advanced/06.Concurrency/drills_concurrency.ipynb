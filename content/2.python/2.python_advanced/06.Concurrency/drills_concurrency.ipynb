{
 "cells": [
  {
   "cell_type": "markdown",
   "metadata": {},
   "source": [
    "# Drill - Threading\n",
    "\n"
   ]
  },
  {
   "cell_type": "markdown",
   "metadata": {},
   "source": [
    "### Exercise 1\n",
    "In the `data/` folder, you have 10 files that contain Shakespears sonnets. You have to gather all these files into one file `data_all.txt` using threads. Be careful, the sonnets must appear in order."
   ]
  },
  {
   "cell_type": "code",
   "execution_count": 3,
   "metadata": {},
   "outputs": [
    {
     "name": "stdout",
     "output_type": "stream",
     "text": [
      "\n",
      "Time spent inside the loop: 0.00010853999998516883 seconds.\n",
      "\n",
      "Time spent inside the loop: 0.00763639100000546 seconds.\n"
     ]
    }
   ],
   "source": [
    "import glob\n",
    "import time\n",
    "from time import perf_counter\n",
    "from threading import Thread\n",
    "from threading import RLock\n",
    "\n",
    "rlock = RLock() # Needs to be outside the function. Created once, used by every thread.\n",
    "\n",
    "\n",
    "start_time = perf_counter()\n",
    "    \n",
    "print(f\"\\nTime spent inside the loop: {perf_counter() - start_time} seconds.\")\n",
    "\n",
    "x = 0\n",
    "file = \"./data/data_all.txt\"\n",
    "variable = (glob.glob(\"./data/*.txt\"))\n",
    "\n",
    "start_time = perf_counter()\n",
    "\n",
    "class Sleeper(Thread): # Sleeper is a Thread\n",
    "    def __init__(self, id): # Override Thread constructor\n",
    "        super().__init__() # Call the parent constructor. Not optional because we are overriding __init__\n",
    "        self.id = id\n",
    "\n",
    "\"\"\"    def run(self): # Called \"run\" to comply with the Thread module default behavior.\n",
    "        print(f\"Task {self.id}: starting. \")\n",
    "        #sleep(.1)\n",
    "        print(f\"Task {self.id}: finishing. \")\n",
    "\"\"\"\n",
    "\n",
    "class SleeperLock(Sleeper): # SleeperLock is a Sleeper and thus a Thread\n",
    "    rlock = RLock() # This is a class variable. It is created only once.\n",
    "\n",
    "\"\"\"    def run(self): # Override the parent run() method\n",
    "        with self.rlock: \n",
    "            print(f\"Task {self.id}: starting. \")\n",
    "        sleep(.1)\n",
    "        with self.rlock: \n",
    "            print(f\"Task {self.id}: finishing. \")\n",
    "\"\"\"\n",
    "sleepers = list()\n",
    "for x in range(0, len(variable)):\n",
    "    sleepers.append(SleeperLock(x))\n",
    "\n",
    "for sleeper in sleepers:\n",
    "    input_file = open(variable[x], \"r+\", encoding='latin-1')\n",
    "    input_file = (input_file.read())\n",
    "        \n",
    "#for sleeper in sleepers:\n",
    "    destination = open(file, \"w\")\n",
    "    destination.write(input_file)\n",
    "    destination.close()\n",
    "    \n",
    "\n",
    "print(f\"\\nTime spent inside the loop: {perf_counter() - start_time} seconds.\")\n",
    "\n"
   ]
  },
  {
   "cell_type": "code",
   "execution_count": 7,
   "metadata": {},
   "outputs": [
    {
     "name": "stdout",
     "output_type": "stream",
     "text": [
      "./data/data_part_1.txt\n",
      "./data/data_part_2.txt./data/data_part_3.txt./data/data_part_4.txt\n",
      "\n",
      "\n",
      "./data/data_part_5.txt./data/data_part_6.txt\n",
      "./data/data_part_7.txt./data/data_part_8.txt\n",
      "\n",
      "\n",
      "./data/data_part_9.txt\n",
      "./data/data_part_10.txt\n"
     ]
    }
   ],
   "source": [
    "import threading\n",
    "\n",
    "use_thread = True\n",
    "\n",
    "def read_and_write_file(file_name):\n",
    "    if use_thread:\n",
    "        print(thread.name)\n",
    "\n",
    "    with threading.Lock() as lock:\n",
    "        with open('./data/data_all.txt', 'a') as out, open(file_name) as in_:\n",
    "            out.writelines(in_)\n",
    "\n",
    "if __name__ == '__main__':\n",
    "    file_names = ['./data/data_part_1.txt', './data/data_part_2.txt', './data/data_part_3.txt','./data/data_part_4.txt','./data/data_part_5.txt','./data/data_part_6.txt','./data/data_part_7.txt','./data/data_part_8.txt','./data/data_part_9.txt','./data/data_part_10.txt']\n",
    "    if use_thread:\n",
    "        for file_name in file_names:\n",
    "            thread = threading.Thread(target = read_and_write_file, args = (file_name,), name = file_name)\n",
    "            thread.start()\n",
    "    else:\n",
    "        for file_name in file_names:\n",
    "            read_and_write_file(file_name)"
   ]
  },
  {
   "cell_type": "markdown",
   "metadata": {},
   "source": [
    "### Exercise 2\n",
    "Scrap all the web pages in the `urls` list and display the links. 1 thread per link. "
   ]
  },
  {
   "cell_type": "code",
   "execution_count": null,
   "metadata": {},
   "outputs": [],
   "source": [
    "urls = [\n",
    "    \"http://www.python.org\",\n",
    "    \"http://www.python.org/about/\",\n",
    "    \"http://www.onlamp.com/pub/a/python/2003/04/17/metaclasses.html\",\n",
    "    \"http://www.python.org/doc/\",\n",
    "    \"http://www.python.org/download/\",\n",
    "    \"http://www.python.org/getit/\",\n",
    "    \"http://www.python.org/community/\",\n",
    "    \"https://wiki.python.org/moin/\",\n",
    "]"
   ]
  },
  {
   "cell_type": "code",
   "execution_count": null,
   "metadata": {},
   "outputs": [],
   "source": []
  }
 ],
 "metadata": {
  "file_extension": ".py",
  "interpreter": {
   "hash": "098abfbdda89cc068fc5a24c70b28519776b65016448753c248b3e3ae6b6b2c3"
  },
  "kernelspec": {
   "display_name": "Python 3.9.7 ('base')",
   "language": "python",
   "name": "python3"
  },
  "language_info": {
   "codemirror_mode": {
    "name": "ipython",
    "version": 3
   },
   "file_extension": ".py",
   "mimetype": "text/x-python",
   "name": "python",
   "nbconvert_exporter": "python",
   "pygments_lexer": "ipython3",
   "version": "3.9.7"
  },
  "mimetype": "text/x-python",
  "name": "python",
  "npconvert_exporter": "python",
  "pygments_lexer": "ipython3",
  "version": 3
 },
 "nbformat": 4,
 "nbformat_minor": 2
}
