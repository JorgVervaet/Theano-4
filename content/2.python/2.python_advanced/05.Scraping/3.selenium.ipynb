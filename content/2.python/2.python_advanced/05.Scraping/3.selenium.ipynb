{
 "cells": [
  {
   "cell_type": "markdown",
   "metadata": {},
   "source": [
    "# Scraping with Selenium\n",
    "\n",
    "Selenium is a tool initially created to automate tests on websites. It is therefore very useful when information is accessible by clicking on links. A button for example is an element from which it is very difficult to obtain the link. BeautifulSoup then becomes limited.\n",
    "In this case, use Selenium."
   ]
  },
  {
   "cell_type": "markdown",
   "metadata": {},
   "source": [
    "### Load libraries\n",
    "\n",
    "If you are missing any libraries in the next cell, you'll need to install them before continuing."
   ]
  },
  {
   "cell_type": "code",
   "execution_count": 1,
   "metadata": {},
   "outputs": [
    {
     "data": {
      "text/plain": [
       "'2022-06-01'"
      ]
     },
     "execution_count": 1,
     "metadata": {},
     "output_type": "execute_result"
    }
   ],
   "source": [
    "import bs4\n",
    "import requests\n",
    "from bs4 import BeautifulSoup\n",
    "import numpy as np\n",
    "import pandas as pd\n",
    "import json\n",
    "import re\n",
    "import lxml.html\n",
    "import time\n",
    "import random\n",
    "from random import randint\n",
    "import logging\n",
    "import collections\n",
    "from time import gmtime, strftime\n",
    "\n",
    "import re\n",
    "from tabulate import tabulate\n",
    "import os\n",
    "\n",
    "date = strftime(\"%Y-%m-%d\")\n",
    "date"
   ]
  },
  {
   "cell_type": "markdown",
   "metadata": {},
   "source": [
    "### Install Selenium according to this manual\n",
    "\n",
    "https://selenium-python.readthedocs.io/installation.html#downloading-python-bindings-for-selenium/bin\n",
    "\n",
    "*NB: On Linux, put your `geckodriver` (the downloaded extension) in the equivalent path on your machine into `/home/<YOUR_NAME>/.local/bin/`*"
   ]
  },
  {
   "cell_type": "markdown",
   "metadata": {},
   "source": [
    "We will simulate a search on the official Python website."
   ]
  },
  {
   "cell_type": "code",
   "execution_count": 2,
   "metadata": {},
   "outputs": [
    {
     "name": "stderr",
     "output_type": "stream",
     "text": [
      "/var/folders/nh/_lkctsl16l393rkzcyztswd80000gn/T/ipykernel_47981/4159393404.py:10: DeprecationWarning: executable_path has been deprecated, please pass in a Service object\n",
      "  driver = webdriver.Firefox(executable_path=\"/usr/local/bin/geckodriver\")\n",
      "/var/folders/nh/_lkctsl16l393rkzcyztswd80000gn/T/ipykernel_47981/4159393404.py:25: DeprecationWarning: find_element_by_name is deprecated. Please use find_element(by=By.NAME, value=name) instead\n",
      "  elem = driver.find_element_by_name(\"q\")\n"
     ]
    }
   ],
   "source": [
    "import selenium\n",
    "\n",
    "# The selenium.webdriver module provides all the implementations of WebDriver\n",
    "# Currently supported are Firefox, Chrome, IE and Remote. The `Keys` class provides keys on\n",
    "# the keyboard such as RETURN, F1, ALT etc.\n",
    "from selenium import webdriver\n",
    "from selenium.webdriver.common.keys import Keys\n",
    "\n",
    "# Here, we create instance of Firefox WebDriver.\n",
    "driver = webdriver.Firefox(executable_path=\"/usr/local/bin/geckodriver\")\n",
    "\n",
    "# The driver.get method will lead to a page given by the URL. WebDriver will wait until the page is fully\n",
    "# loaded (i.e. the \"onload\" event has been triggered) before returning the control to your script.\n",
    "# It should be noted that if your page uses a lot of AJAX calls when loading, WebDriver may not know\n",
    "# when it was fully loaded.\n",
    "driver.get(\"http://www.python.org\")\n",
    "\n",
    "# The following line is a statement confirming that the title contains the word \"Python\".\n",
    "assert \"Python\" in driver.title\n",
    "\n",
    "# WebDriver offers several methods to search for items using one of the methods\n",
    "# `find_element_by_...` .\n",
    "# For example, the input text element can be located by its name attribute by\n",
    "# using the `find_element_by_name` method.\n",
    "elem = driver.find_element_by_name(\"q\")\n",
    "\n",
    "# Then we send keys. This is similar to entering keys using your keyboard.\n",
    "# Special keys can be sent using the `Keys` class imported in line 7 (from selenium.webdriver.common.keys import Keys).\n",
    "# For security reasons, we will delete any pre-filled text in the input field\n",
    "# (for example, \"Search\") so that it does not affect our search results:\n",
    "elem.clear()\n",
    "elem.send_keys(\"pycon\")\n",
    "elem.send_keys(Keys.RETURN)\n",
    "\n",
    "# After submitting the page, you should get the result if there is one. To ensure that certain results\n",
    "# are found, make an assertion:\n",
    "assert \"No results found.\" not in driver.page_source\n",
    "driver.close()"
   ]
  },
  {
   "cell_type": "markdown",
   "metadata": {},
   "source": [
    "#### Open the source code of the webpage and check that the search area (field) is called \"q\"."
   ]
  },
  {
   "cell_type": "code",
   "execution_count": 3,
   "metadata": {},
   "outputs": [
    {
     "ename": "SyntaxError",
     "evalue": "invalid syntax (192146405.py, line 1)",
     "output_type": "error",
     "traceback": [
      "\u001b[0;36m  Input \u001b[0;32mIn [3]\u001b[0;36m\u001b[0m\n\u001b[0;31m    <input id=\"id-search-field\" name=\"q\" type=\"search\" role=\"textbox\" class=\"search-field\" placeholder=\"Search\" value=\"\" tabindex=\"1\">\u001b[0m\n\u001b[0m    ^\u001b[0m\n\u001b[0;31mSyntaxError\u001b[0m\u001b[0;31m:\u001b[0m invalid syntax\n"
     ]
    }
   ],
   "source": [
    "<input id=\"id-search-field\" name=\"q\" type=\"search\" role=\"textbox\" class=\"search-field\" placeholder=\"Search\" value=\"\" tabindex=\"1\">"
   ]
  },
  {
   "cell_type": "markdown",
   "metadata": {},
   "source": [
    "### Getting a phone number from *leboncoin*"
   ]
  },
  {
   "cell_type": "code",
   "execution_count": null,
   "metadata": {},
   "outputs": [
    {
     "name": "stderr",
     "output_type": "stream",
     "text": [
      "/var/folders/nh/_lkctsl16l393rkzcyztswd80000gn/T/ipykernel_44184/2947701238.py:10: DeprecationWarning: executable_path has been deprecated, please pass in a Service object\n",
      "  driver = webdriver.Firefox(executable_path=\"/usr/local/bin/geckodriver\")\n",
      "/var/folders/nh/_lkctsl16l393rkzcyztswd80000gn/T/ipykernel_44184/2947701238.py:14: DeprecationWarning: find_elements_by_xpath is deprecated. Please use find_elements(by=By.XPATH, value=xpath) instead\n",
      "  python_button = driver.find_elements_by_xpath('//div[@data-reactid=\"269\"]')[0]\n"
     ]
    },
    {
     "ename": "IndexError",
     "evalue": "list index out of range",
     "output_type": "error",
     "traceback": [
      "\u001b[0;31m---------------------------------------------------------------------------\u001b[0m",
      "\u001b[0;31mIndexError\u001b[0m                                Traceback (most recent call last)",
      "\u001b[1;32m/Users/Jorg/BeCode/Theano-4/content/2.python/2.python_advanced/05.Scraping/3.selenium.ipynb Cell 10'\u001b[0m in \u001b[0;36m<cell line: 14>\u001b[0;34m()\u001b[0m\n\u001b[1;32m     <a href='vscode-notebook-cell:/Users/Jorg/BeCode/Theano-4/content/2.python/2.python_advanced/05.Scraping/3.selenium.ipynb#ch0000009?line=10'>11</a>\u001b[0m driver\u001b[39m.\u001b[39mimplicitly_wait(\u001b[39m30\u001b[39m)\n\u001b[1;32m     <a href='vscode-notebook-cell:/Users/Jorg/BeCode/Theano-4/content/2.python/2.python_advanced/05.Scraping/3.selenium.ipynb#ch0000009?line=11'>12</a>\u001b[0m driver\u001b[39m.\u001b[39mget(url)\n\u001b[0;32m---> <a href='vscode-notebook-cell:/Users/Jorg/BeCode/Theano-4/content/2.python/2.python_advanced/05.Scraping/3.selenium.ipynb#ch0000009?line=13'>14</a>\u001b[0m python_button \u001b[39m=\u001b[39m driver\u001b[39m.\u001b[39;49mfind_elements_by_xpath(\u001b[39m'\u001b[39;49m\u001b[39m//div[@data-reactid=\u001b[39;49m\u001b[39m\"\u001b[39;49m\u001b[39m269\u001b[39;49m\u001b[39m\"\u001b[39;49m\u001b[39m]\u001b[39;49m\u001b[39m'\u001b[39;49m)[\u001b[39m0\u001b[39;49m]\n\u001b[1;32m     <a href='vscode-notebook-cell:/Users/Jorg/BeCode/Theano-4/content/2.python/2.python_advanced/05.Scraping/3.selenium.ipynb#ch0000009?line=14'>15</a>\u001b[0m python_button\u001b[39m.\u001b[39mclick()\n\u001b[1;32m     <a href='vscode-notebook-cell:/Users/Jorg/BeCode/Theano-4/content/2.python/2.python_advanced/05.Scraping/3.selenium.ipynb#ch0000009?line=16'>17</a>\u001b[0m \u001b[39m# And then we use Beautiful soup\u001b[39;00m\n",
      "\u001b[0;31mIndexError\u001b[0m: list index out of range"
     ]
    }
   ],
   "source": [
    "from selenium import webdriver\n",
    "from selenium.webdriver.support.ui import WebDriverWait\n",
    "from selenium.webdriver.support import expected_conditions as EC\n",
    "from selenium.common.exceptions import TimeoutException\n",
    "from selenium.webdriver.common.by import By\n",
    "\n",
    "url = \"https://www.leboncoin.fr/sports_hobbies/1536839557.htm/\"\n",
    "\n",
    "driver = webdriver.Firefox()\n",
    "driver = webdriver.Firefox(executable_path=\"/usr/local/bin/geckodriver\")\n",
    "driver.implicitly_wait(30)\n",
    "driver.get(url)\n",
    "\n",
    "python_button = driver.find_elements_by_xpath('//div[@data-reactid=\"269\"]')[0]\n",
    "python_button.click()\n",
    "\n",
    "# And then we use Beautiful soup\n",
    "soup = BeautifulSoup(driver.page_source)\n",
    "\n",
    "driver.close()\n",
    "\n",
    "for elem in soup.find_all(\"a\", attrs={\"data-qa-id\": \"adview_number_phone_contact\"}):\n",
    "    print(elem.text)"
   ]
  },
  {
   "cell_type": "markdown",
   "metadata": {},
   "source": [
    "### Starting from *leboncoin*, collect all the information available to define the product being sold. Use `selenium` for the telephone number."
   ]
  },
  {
   "cell_type": "code",
   "execution_count": null,
   "metadata": {},
   "outputs": [
    {
     "ename": "AttributeError",
     "evalue": "'Options' object has no attribute 'binary'",
     "output_type": "error",
     "traceback": [
      "\u001b[0;31m---------------------------------------------------------------------------\u001b[0m",
      "\u001b[0;31mAttributeError\u001b[0m                            Traceback (most recent call last)",
      "\u001b[1;32m/Users/Jorg/BeCode/Theano-4/content/2.python/2.python_advanced/05.Scraping/3.selenium.ipynb Cell 12'\u001b[0m in \u001b[0;36m<cell line: 17>\u001b[0;34m()\u001b[0m\n\u001b[1;32m     <a href='vscode-notebook-cell:/Users/Jorg/BeCode/Theano-4/content/2.python/2.python_advanced/05.Scraping/3.selenium.ipynb#ch0000011?line=14'>15</a>\u001b[0m options\u001b[39m.\u001b[39madd_argument(\u001b[39m'\u001b[39m\u001b[39m--disable-infobars\u001b[39m\u001b[39m'\u001b[39m)\n\u001b[1;32m     <a href='vscode-notebook-cell:/Users/Jorg/BeCode/Theano-4/content/2.python/2.python_advanced/05.Scraping/3.selenium.ipynb#ch0000011?line=15'>16</a>\u001b[0m ser \u001b[39m=\u001b[39m Service(\u001b[39m\"\u001b[39m\u001b[39m/usr/local/bin/geckodriver\u001b[39m\u001b[39m\"\u001b[39m) \n\u001b[0;32m---> <a href='vscode-notebook-cell:/Users/Jorg/BeCode/Theano-4/content/2.python/2.python_advanced/05.Scraping/3.selenium.ipynb#ch0000011?line=16'>17</a>\u001b[0m driver \u001b[39m=\u001b[39m webdriver\u001b[39m.\u001b[39;49mFirefox(options\u001b[39m=\u001b[39;49moptions,service\u001b[39m=\u001b[39;49mser)\n\u001b[1;32m     <a href='vscode-notebook-cell:/Users/Jorg/BeCode/Theano-4/content/2.python/2.python_advanced/05.Scraping/3.selenium.ipynb#ch0000011?line=17'>18</a>\u001b[0m driver\u001b[39m.\u001b[39mimplicitly_wait(\u001b[39m30\u001b[39m)\n\u001b[1;32m     <a href='vscode-notebook-cell:/Users/Jorg/BeCode/Theano-4/content/2.python/2.python_advanced/05.Scraping/3.selenium.ipynb#ch0000011?line=18'>19</a>\u001b[0m driver\u001b[39m.\u001b[39mget(url)\n",
      "File \u001b[0;32m/Library/Frameworks/Python.framework/Versions/3.10/lib/python3.10/site-packages/selenium/webdriver/firefox/webdriver.py:146\u001b[0m, in \u001b[0;36mWebDriver.__init__\u001b[0;34m(self, firefox_profile, firefox_binary, capabilities, proxy, executable_path, options, service_log_path, service_args, service, desired_capabilities, log_path, keep_alive)\u001b[0m\n\u001b[1;32m    <a href='file:///Library/Frameworks/Python.framework/Versions/3.10/lib/python3.10/site-packages/selenium/webdriver/firefox/webdriver.py?line=143'>144</a>\u001b[0m \u001b[39m# options overrides capabilities\u001b[39;00m\n\u001b[1;32m    <a href='file:///Library/Frameworks/Python.framework/Versions/3.10/lib/python3.10/site-packages/selenium/webdriver/firefox/webdriver.py?line=144'>145</a>\u001b[0m \u001b[39mif\u001b[39;00m options:\n\u001b[0;32m--> <a href='file:///Library/Frameworks/Python.framework/Versions/3.10/lib/python3.10/site-packages/selenium/webdriver/firefox/webdriver.py?line=145'>146</a>\u001b[0m     \u001b[39mif\u001b[39;00m options\u001b[39m.\u001b[39;49mbinary:\n\u001b[1;32m    <a href='file:///Library/Frameworks/Python.framework/Versions/3.10/lib/python3.10/site-packages/selenium/webdriver/firefox/webdriver.py?line=146'>147</a>\u001b[0m         \u001b[39mself\u001b[39m\u001b[39m.\u001b[39mbinary \u001b[39m=\u001b[39m options\u001b[39m.\u001b[39mbinary\n\u001b[1;32m    <a href='file:///Library/Frameworks/Python.framework/Versions/3.10/lib/python3.10/site-packages/selenium/webdriver/firefox/webdriver.py?line=147'>148</a>\u001b[0m     \u001b[39mif\u001b[39;00m options\u001b[39m.\u001b[39mprofile:\n",
      "\u001b[0;31mAttributeError\u001b[0m: 'Options' object has no attribute 'binary'"
     ]
    }
   ],
   "source": [
    "from selenium import webdriver\n",
    "from selenium.webdriver.support.ui import WebDriverWait\n",
    "from selenium.webdriver.support import expected_conditions as EC\n",
    "from selenium.common.exceptions import TimeoutException\n",
    "from selenium.webdriver.common.by import By\n",
    "from selenium.webdriver.chrome.service import Service\n",
    "from selenium.webdriver.chrome.options import Options\n",
    "\n",
    "options = Options()\n",
    "\n",
    "url = \"https://www.immoweb.be/en/classified/apartment/for-sale/antwerp/2018/9900804?searchId=627901fd0604b\"\n",
    "\n",
    "#driver = webdriver.Firefox()\n",
    "options.add_argument('--start-maximized')\n",
    "options.add_argument('--disable-infobars')\n",
    "ser = Service(\"/usr/local/bin/geckodriver\") \n",
    "driver = webdriver.Firefox(options=options,service=ser)\n",
    "driver.implicitly_wait(30)\n",
    "driver.get(url)\n",
    "\n",
    "#print(driver.current_url)\n",
    "\n",
    "keep_browsing = driver.find_element(By.ID,'uc-btn-accept-banner')\n",
    "keep_browsing.click()\n",
    "contact_phone = driver.find_elements(by=By.XPATH, value='//*[@id=\"customer-card\"]/div[2]/div[2]/button[2]')[0]\n",
    "#contact_phone.click()\n",
    "\n",
    "## And then we use Beautiful soup\n",
    "soup = BeautifulSoup(driver.page_source)\n",
    "\n",
    "#driver.close()\n",
    "\n",
    "for elem in soup.find_all(\"a\", {'class' : 'button button--secondary'}):\n",
    "    href = elem.get('href')\n",
    "    print(href) \n"
   ]
  },
  {
   "cell_type": "markdown",
   "metadata": {},
   "source": [
    "### API (Application Program Interface)"
   ]
  },
  {
   "cell_type": "markdown",
   "metadata": {},
   "source": [
    "A set of tools and methods that allow different applications to interact with each other. In the case of a web service, we can retrieve data dynamically. By using an API correctly, we can thus obtain in real time, the modifications made on a \"parent\" site.\n",
    "\n",
    "For example, we will retrieve online news, for example from the \"L'équipe\" website."
   ]
  },
  {
   "cell_type": "markdown",
   "metadata": {},
   "source": [
    "Follow the instructions at https://newsapi.org/s/lequipe-api to retrieve an \"API key\" connection key"
   ]
  },
  {
   "cell_type": "markdown",
   "metadata": {},
   "source": [
    "Your API key is: `73bbb95f8ecb49b499113a46481b4af1`\n",
    "\n",
    "\n",
    "It is frequent that a key does not work after a while (e.g. `5 min`n `30 min`, a day, ...)\n",
    "So don't jump up if you get an error message back."
   ]
  },
  {
   "cell_type": "code",
   "execution_count": null,
   "metadata": {},
   "outputs": [
    {
     "name": "stdout",
     "output_type": "stream",
     "text": [
      "{'status': 'ok', 'totalResults': 10, 'articles': [{'source': {'id': 'lequipe', 'name': \"L'equipe\"}, 'author': \"L'EQUIPE\", 'title': 'Huit équipes encore en lice et trois billets à distribuer pour la Coupe du monde 2022', 'description': 'Si 29 pays sont déjà qualifiés pour la Coupe du monde au Qatar, trois derniers billets sont encore à distribuer par le biais de barrages.', 'url': 'https://www.lequipe.fr/Football/Actualites/Huit-equipes-encore-en-lice-et-trois-billets-a-distribuer-pour-la-coupe-du-monde-2022/1336251', 'urlToImage': 'https://medias.lequipe.fr/img-photo-jpg/le-bresilien-cafu-lors-du-tirage-au-sort-de-la-coupe-du-monde-le-1eravril-a-doha-un-des-barragistes-/1500000001649506/0:0,1998:1332-640-427-75/288be.jpg', 'publishedAt': '2022-06-01T07:02:00+00:00', 'content': \"Le suspense touche à sa fin pour connaître la composition définitive des groupes de la Coupe du monde 2022 au Qatar (21\\xa0novembre-18\\xa0décembre). Si 29 équipes ont déjà leur carton d'invitation, huit sé… [+2436 chars]\"}, {'source': {'id': 'lequipe', 'name': \"L'equipe\"}, 'author': \"L'EQUIPE\", 'title': 'NHL\\xa0: Colorado domine Edmonton dans le match 1 de la finale de conférence Ouest', 'description': \"L'Avalanche du Colorado a remporté, mardi à Denver, le match 1 de la finale de conférence Ouest en battant (8-6) les Oilers d'Edmonton.\", 'url': 'https://www.lequipe.fr/Hockey-sur-glace/Actualites/Nhl-colorado-domine-edmonton-dans-le-match-1-de-la-finale-de-conference-ouest/1336293', 'urlToImage': 'https://medias.lequipe.fr/img-photo-jpg/compher-et-colorado-avalanche-ont-remporte-le-premier-match-de-la-finale-de-conference-ouest-isaiah-/1500000001649614/0:0,1997:1331-640-427-75/eb563.jpg', 'publishedAt': '2022-06-01T06:34:00+00:00', 'content': \"L'Avalanche du Colorado a remporté, mardi à Denver, le match 1 de la finale de conférence Ouest en battant (8-6) les Oilers d'Edmonton. Mais tout n'a pas été rose pour l'Avalanche qui a perdu son gar… [+252 chars]\"}, {'source': {'id': 'lequipe', 'name': \"L'equipe\"}, 'author': \"L'EQUIPE\", 'title': 'Mercato: Giorgio Chiellini en route pour le Los Angeles FC en MLS', 'description': \"Le champion d'Europe italien Giorgio Chiellini (37 ans) va s'engager cette semaine avec le Los Angeles FC en MLS, selon ESPN.\", 'url': 'https://www.lequipe.fr/Football/Actualites/Mercato-giorgio-chiellini-en-route-pour-le-los-angeles-fc-en-mls/1336292', 'urlToImage': 'https://medias.lequipe.fr/img-photo-jpg/giorgio-chiellini-met-le-cap-sur-los-angeles-s-boue-l-equipe/1500000001649613/0:0,1995:1330-640-427-75/f8546.jpg', 'publishedAt': '2022-06-01T06:16:00+00:00', 'content': \"Giorgio Chiellini (37 ans), champion d'Europe aux 116 sélections, va bien rejoindre les Etats-Unis, comme prévu depuis l'annonce de son départ de la Juventus Turin. Selon ESPN, le défenseur central v… [+185 chars]\"}, {'source': {'id': 'lequipe', 'name': \"L'equipe\"}, 'author': \"L'EQUIPE\", 'title': '«\\xa0Récital\\xa0», «\\xa0fantastique\\xa0», «\\xa0sans voix\\xa0»...\\xa0\\xa0Ils se sont régalés devant le match Djokovic - Nadal à Rola...', 'description': \"Tous les observateurs de ce match très attendu ont estimé qu'il avait largement tenu ses promesses. Ils n'ont pas boudé leur plaisir devant ce 59<sup>e</sup> Nadal - Djokovic. Récit.\", 'url': 'https://www.lequipe.fr/Tennis/Actualites/-recital-fantastique-sans-voix-ils-se-sont-regales-devant-le-match-djokovic-nadal-a-roland-garros/1336291', 'urlToImage': 'https://medias.lequipe.fr/img-photo-jpg/rafael-nadal-et-novak-djokovic-ont-une-nouvelle-fois-enchante-les-spectateurs-p-lahalle-l-equipe/1500000001649612/0:0,1995:1330-640-427-75/da3f3.jpg', 'publishedAt': '2022-06-01T06:15:00+00:00', 'content': 'Finalement, Fabrice Santoro, sur Prime Video, avait vite compris, au mitan de la deuxième manche. «\\xa0Vous savez, vous pouvez faire carrière sans jouer comme ces deux-là...\\xa0» Histoire de commenter en s… [+6584 chars]'}, {'source': {'id': 'lequipe', 'name': \"L'equipe\"}, 'author': \"L'EQUIPE\", 'title': 'Le flash sports du 1er\\xa0juin', 'description': \"Retrouvez toute l'actualité sportive dans votre flash quotidien.\", 'url': 'https://www.lequipe.fr/Tous-sports/Actualites/Le-flash-sports-du-1er-juin/1336287', 'urlToImage': 'https://medias.lequipe.fr/img-photo-jpg/le-flash-sports-l-equipe/1500000001649606/0:0,1997:1331-640-427-75/3fa17.jpg', 'publishedAt': '2022-06-01T00:29:00+00:00', 'content': \"La victoire de Rafael Nadal face à Novak Djokovic en quarts de finale de Roland-Garros, Coco Gauff et Martina Trevisan qualifiées pour le dernier carré Porte d'Auteuil, le départ à la retraite de Yoa… [+127 chars]\"}, {'source': {'id': 'lequipe', 'name': \"L'equipe\"}, 'author': \"L'EQUIPE\", 'title': 'Rafael Nadal, après sa victoire contre Novak Djokovic à Roland-Garros : « Ça fait partie de ces nuits inoub...', 'description': \"Rafael Nadal a vécu une soirée remplie d'émotions face à Novak Djokovic, mardi en quarts de finale de Roland-Garros. Mais l'Espagnol le répète : il n'a encore rien gagné.\", 'url': 'https://www.lequipe.fr/Tennis/Actualites/Rafael-nadal-apres-sa-victoire-contre-novak-djokovic-a-roland-garros-ca-fait-partie-de-ces-nuits-inoubliables/1336286', 'urlToImage': 'https://medias.lequipe.fr/img-photo-jpg/la-demonstration-de-force-de-rafael-nadal-n-luttiau-l-equipe/1500000001649603/0:0,1991:1327-640-427-75/537f4.jpg', 'publishedAt': '2022-06-01T00:22:00+00:00', 'content': \"« Comment avez-vous vécu le soutien du public ?Le public a été incroyable, comme depuis le début du tournoi. Je crois qu'ils savent que je ne vais pas être là encore très longtemps (sourire). La sens… [+3593 chars]\"}, {'source': {'id': 'lequipe', 'name': \"L'equipe\"}, 'author': \"L'EQUIPE\", 'title': 'Novak Djokovic, après sa défaite contre Rafael Nadal à Roland-Garros : « Il mérite cette victoire, sans auc...', 'description': \"Battu par Rafael Nadal en quarts de finale de Roland-Garros ce mardi soir (6-2, 4-6, 6-2, 7-6 [4]), Novak Djokovic a rendu hommage à la performance de l'Espagnol.\", 'url': 'https://www.lequipe.fr/Tennis/Actualites/Novak-djokovic-apres-sa-defaite-contre-rafael-nadal-a-roland-garros-il-merite-cette-victoire-sans-aucun-doute/1336285', 'urlToImage': 'https://medias.lequipe.fr/img-photo-jpg/novak-djokovic-a-cede-apres-4h12-de-combat-mardi-soir-face-a-rafael-nadal-p-lahalle-l-equipe/1500000001649599/0:0,1998:1332-640-427-75/c11b9.jpg', 'publishedAt': '2022-06-01T00:00:00+00:00', 'content': \"Novak Djokovic, après sa défaite face à Rafael Nadal ce mardi en quarts de finale de Roland-Garros (6-2, 4-6, 6-2, 7-6 [4]) : «\\xa0Bravo à lui, il a été meilleur dans les moments importants. Je n'ai pas… [+1181 chars]\"}, {'source': {'id': 'lequipe', 'name': \"L'equipe\"}, 'author': \"L'EQUIPE\", 'title': 'Roland-Garros\\xa0: le match incroyable entre Djokovic et Nadal en stats', 'description': 'La 59e opposition entre Rafael Nadal et Novak Djokovic, mardi soir, aura connu des sommets en chiffres aussi.', 'url': 'https://www.lequipe.fr/Tennis/Actualites/Le-match-djokovic-nadal-en-stats/1336284', 'urlToImage': 'https://medias.lequipe.fr/img-photo-jpg/rafael-nadal-est-en-demi-finales-de-roland-garros-pour-la-15e-fois-p-lahalle-l-equipe/1500000001649605/0:0,1998:1332-640-427-75/d25d6.jpg', 'publishedAt': '2022-05-31T23:55:00+00:00', 'content': \"Après 23 minutes, le tenant du titre menait 4-1. À 5-3, «\\xa0Djoko\\xa0» s'offrait deux balles de set avant de voir Nadal le débreaker sur un jeu qui a duré 9'03\\xa0! À 3h52, alors que les deux joueurs sont 5-… [+45 chars]\"}, {'source': {'id': 'lequipe', 'name': \"L'equipe\"}, 'author': \"L'EQUIPE\", 'title': 'Rafael Nadal remporte son combat contre Novak Djokovic et rejoint les demi-finales à Roland-Garros', 'description': \"Au terme d'un match qui a tenu toutes ses promesses, Rafael Nadal a pris le dessus sur Novak Djokovic, tenant du titre et n°1 mondial, en quarts de finale de Roland-Garros en quatre sets (6-2, 4-6, 6-2, 7-6 [4]) après un combat de 4h12 fini mercredi matin à 1…\", 'url': 'https://www.lequipe.fr/Tennis/Actualites/Rafael-nadal-remporte-son-combat-contre-novak-djokovic-et-rejoint-les-demi-finales-a-roland-garros/1336282', 'urlToImage': 'https://medias.lequipe.fr/img-photo-jpg/rafael-nadal-a-remporte-le-choc-contre-novak-djokovic-p-lahalle-l-equipe/1500000001649590/0:0,1998:1332-640-427-75/b37af.jpg', 'publishedAt': '2022-05-31T23:16:00+00:00', 'content': \"La guerre des dieux a bien eu lieu. On ne sait plus si l'on doit être surpris, avec les deux extraterrestres que sont Rafael Nadal et Novak Djokovic. Les deux hommes nous ont tant habitués à l'extrao… [+5186 chars]\"}, {'source': {'id': 'lequipe', 'name': \"L'equipe\"}, 'author': \"L'EQUIPE\", 'title': \"Amélie Oudéa-Castéra fait sa première visite au comité d'organisation des JO 2024\", 'description': 'Amélie Oudéa-Castéra, ministre des Sports et des Jeux olympiques et paralympiques, est venue rencontrer, mardi, les équipes de Paris 2024 et faire le point sur tous les sujets avec Tony Estanguet.', 'url': 'https://www.lequipe.fr/Tous-sports/Actualites/Amelie-oudea-castera-fait-sa-premiere-visite-au-comite-d-organisation-des-jo-2024/1336271', 'urlToImage': 'https://medias.lequipe.fr/img-photo-jpg/la-ministre-place-son-dossard-signe-au-mur-du-siege-de-paris-2024-sous-l-objectif-de-tony-estanguet-/1500000001649543/0:0,1753:1169-640-427-75/3aeb5.jpg', 'publishedAt': '2022-05-31T21:09:00+00:00', 'content': \"Dès le hall d'accueil du comité d'organisation des Jeux, à Saint-Denis, le panneau lumineux indiquait la bienvenue à la ministre des Sports et des Jeux olympiques et paralympiques, mardi. Une visite … [+4810 chars]\"}]}\n"
     ]
    }
   ],
   "source": [
    "import requests\n",
    "\n",
    "key = \"73bbb95f8ecb49b499113a46481b4af1\"\n",
    "url = \"https://newsapi.org/v2/top-headlines?sources=lequipe&apiKey=\" + key\n",
    "response = requests.get(url)\n",
    "\n",
    "# Here the response format is a json file, it is used as a dictionary\n",
    "print(response.json())"
   ]
  },
  {
   "cell_type": "code",
   "execution_count": null,
   "metadata": {},
   "outputs": [
    {
     "name": "stdout",
     "output_type": "stream",
     "text": [
      "dict_keys(['status', 'totalResults', 'articles'])\n"
     ]
    }
   ],
   "source": [
    "dictionnary = response.json()\n",
    "print(dictionnary.keys())"
   ]
  },
  {
   "cell_type": "code",
   "execution_count": null,
   "metadata": {},
   "outputs": [
    {
     "name": "stdout",
     "output_type": "stream",
     "text": [
      "##############################################\n",
      "Key:  status // Values:  ok\n",
      "##############################################\n",
      "Key:  totalResults // Values:  10\n",
      "##############################################\n",
      "Key:  articles // Values:  [{'source': {'id': 'lequipe', 'name': \"L'equipe\"}, 'author': \"L'EQUIPE\", 'title': 'Julien Dupuy non conservé dans le staff de Toulon', 'description': \"En fin de contrat à l'issue de la saison, Julien Dupuy ne sera pas prolongé au sein du staff du RCT.\", 'url': 'https://www.lequipe.fr/Rugby/Actualites/Julien-dupuy-non-conserve-dans-le-staff-de-toulon/1336191', 'urlToImage': 'https://medias.lequipe.fr/img-photo-jpg/julien-dupuy-avait-rejoint-le-rct-en-2020-n-luttiau-l-equipe/1500000001649377/0:0,1995:1330-640-427-75/2ce0c.jpg', 'publishedAt': '2022-05-31T13:52:00+00:00', 'content': \"Arrivé au Rugby Club Toulonnais en mars\\xa02020 en remplacement de Sébastien Tillous-Borde au poste d'entraîneur des arrières, Julien Dupuy va quitter le club varois à la fin de la saison. Son contrat, … [+162 chars]\"}, {'source': {'id': 'lequipe', 'name': \"L'equipe\"}, 'author': \"L'EQUIPE\", 'title': 'Thomas Darracq nommé sélectionneur-entraîneur du quinze de France féminin, Annick Hayraud reste manager', 'description': \"La Fédération française de rugby a annoncé ce mardi que Thomas Darracq devenait «\\xa0sélectionneur-entraîneur\\xa0» du quinze de France féminin. Annick Hayraud demeure manager de l'équipe, tandis que les arrivées dans le staff de Gaëlle Mignot et David Ortiz ont été…\", 'url': 'https://www.lequipe.fr/Rugby/Actualites/Thomas-darracq-nomme-selectionneur-entraineur-du-quinze-de-france-feminin-annick-hayraud-reste-manager/1336188', 'urlToImage': 'https://medias.lequipe.fr/img-photo-jpg/thomas-darracq-avec-annick-hayraud-a-martin-l-equipe/1500000001649373/234:162,1857:1243-640-427-75/e5d9b.jpg', 'publishedAt': '2022-05-31T13:35:00+00:00', 'content': 'La Fédération française de rugby a annoncé que Thomas Darracq devenait «\\xa0sélectionneur-entraîneur\\xa0» du quinze de France féminin. Le technicien avait rejoint le staff de la sélection en juillet 2021 e… [+1754 chars]'}, {'source': {'id': 'lequipe', 'name': \"L'equipe\"}, 'author': \"L'EQUIPE\", 'title': \"Thomas Pesquet invité de «\\xa0L'Équipe du Soir\\xa0»\", 'description': \"Thomas Pesquet sera l'invité <i>L'Équipe du Soir</i> ce mardi à 19h45. L'astronaute français occupera le rôle de président de l'émission, au côté du présentateur Olivier Ménard.\", 'url': 'https://www.lequipe.fr/Medias/Actualites/Thomas-pesquet-invite-de-l-equipe-du-soir/1336067', 'urlToImage': 'https://medias.lequipe.fr/img-photo-jpg/thomas-pesquet-sera-le-president-de-l-equipe-du-soir-ce-mardi-a-19h45-n-luttiau-l-equipe/1500000001649139/399:63,1718:943-640-427-75/06309.jpg', 'publishedAt': '2022-05-31T13:30:00+00:00', 'content': \"Thomas Pesquet président de L'Équipe du Soir. Mardi, à 19h45, l'astronaute sera l'invité de l'émission de la chaîne L'Équipe animée par Olivier Ménard. Premier Français à prendre les commandes de la … [+190 chars]\"}, {'source': {'id': 'lequipe', 'name': \"L'equipe\"}, 'author': \"L'EQUIPE\", 'title': 'Francis de Taddeo nommé directeur du centre de formation de Metz', 'description': \"Francis de Taddeo a été nommé, mardi, directeur du centre de formation de Metz, poste qu'il a occupé entre\\xa01996 et\\xa02006.\", 'url': 'https://www.lequipe.fr/Football/Actualites/Francis-de-taddeo-nomme-directeur-du-centre-de-formation-de-metz/1336187', 'urlToImage': 'https://medias.lequipe.fr/img-photo-jpg/francis-de-taddeo-est-de-retour-a-metz-stephane-mantey-l-equipe/1500000001649369/0:0,1982:1322-640-427-75/355ba.jpg', 'publishedAt': '2022-05-31T13:27:00+00:00', 'content': \"De Taddeo et le FC Metz, c'est une longue histoire débutée en 1986. Il avait pris en charge la plupart des équipes de la formation avant de succéder à Philippe Hinschberger dix ans plus tard, en tant… [+181 chars]\"}, {'source': {'id': 'lequipe', 'name': \"L'equipe\"}, 'author': \"L'EQUIPE\", 'title': \"Diego Martinez nouvel entraîneur de l'Espanyol Barcelone\", 'description': \"L'Espanyol Barcelone a présenté ce mardi Diego Martinez, qui s'est engagé pour les deux prochaines saisons sur le banc du club catalan.\", 'url': 'https://www.lequipe.fr/Football/Actualites/Diego-martinez-nouvel-entraineur-de-l-espanyol-barcelone/1336186', 'urlToImage': 'https://medias.lequipe.fr/img-photo-jpg/diego-martinez-nouveau-coach-de-l-espanyol-barcelone-anp-sport-anp/1500000001649364/0:0,1997:1331-640-427-75/91d5a.jpg', 'publishedAt': '2022-05-31T13:20:00+00:00', 'content': \"Il a été présenté dans la foulée au RCDE Stadium, l'enceinte de l'Espanyol. «\\xa0C'est un privilège et un honneur pour moi d'intégrer ce club, a déclaré Diego Martinez. J'ai comme ambition de bâtir une … [+141 chars]\"}, {'source': {'id': 'lequipe', 'name': \"L'equipe\"}, 'author': \"L'EQUIPE\", 'title': 'Le skateur Édouard Damestoy partage sa passion pour la rampe dans une série documentaire', 'description': 'Seul Européen spécialiste de la rampe (un module en forme de «\\xa0U\\xa0»), Édouard Damestoy dévoile une série documentaire sur sa discipline, star des années 1990 avec la légende Tony Hawk. Une plongée dans une communauté et son histoire.', 'url': 'https://www.lequipe.fr/Adrenaline/Skateboard/Actualites/Le-skateur-edouard-damestoy-partage-sa-passion-pour-la-rampe-dans-une-serie-documentaire/1336185', 'urlToImage': 'https://medias.lequipe.fr/img-photo-jpg/edouard-damestoy-aux-x-games-2022-j-halayko-espn/1500000001649362/3:37,1725:1185-640-427-75/4ebb8.jpg', 'publishedAt': '2022-05-31T13:14:00+00:00', 'content': \"Son 900 a marqué des générations de skateurs. En 1999, l'Américain Tony Hawk pose ce trick pendant des X Games dans la baie de San Francisco et entre dans la légende. Deux tours et demi dans les airs… [+2702 chars]\"}, {'source': {'id': 'lequipe', 'name': \"L'equipe\"}, 'author': \"L'EQUIPE\", 'title': \"L'ASSE porte plainte contre X après les incidents contre Auxerre\", 'description': \"Saint-Etienne a porté plainte contre X mardi, à la suite des graves incidents survenus à l'issue du barrage retour entre l'ASSE et Auxerre dimanche.\", 'url': 'https://www.lequipe.fr/Football/Actualites/L-asse-porte-plainte-contre-x-apres-les-incidents-contre-auxerre/1336184', 'urlToImage': 'https://medias.lequipe.fr/img-photo-jpg/le-chaos-apres-la-descente-en-l2-a-reau-l-equipe/1500000001649361/0:0,1995:1330-640-427-75/4dbf3.jpg', 'publishedAt': '2022-05-31T13:13:00+00:00', 'content': \"Deux jours après les graves incidents survenus à la fin du barrage retour contre l'AJ Auxerre, et la descente en Ligue\\xa02 actée à l'issue de la séance de tirs au but, l'AS Saint-Etienne a déposé une p… [+868 chars]\"}, {'source': {'id': 'lequipe', 'name': \"L'equipe\"}, 'author': \"L'EQUIPE\", 'title': \"Sergio Perez prolonge chez Red Bull jusqu'en 2024\", 'description': \"Deux jours après la victoire du Mexicain à Monaco, Red Bull a officialisé mardi la prolongation de contrat de Sergio Perez jusqu'en 2024, soit deux saisons supplémentaires, au côté de Max Verstappen.\", 'url': 'https://www.lequipe.fr/Formule-1/Actualites/Sergio-perez-prolonge-chez-red-bull-jusqu-en-2024/1336183', 'urlToImage': 'https://medias.lequipe.fr/img-photo-jpg/sergio-perez-lors-de-son-succes-a-monaco-dimanche-dernier-f-porcu-l-equipe/1500000001649360/0:0,1996:1331-640-427-75/d038e.jpg', 'publishedAt': '2022-05-31T13:12:00+00:00', 'content': \"Moins de quarante-huit heures après sa troisième victoire en Grand Prix, la première sur le mythique tracé de Monaco au terme d'une course à rebondissements, Sergio Perez a signé une prolongation de … [+2356 chars]\"}, {'source': {'id': 'lequipe', 'name': \"L'equipe\"}, 'author': \"L'EQUIPE\", 'title': 'Selon une ONG, la promesse de neutralité carbone de la Coupe du monde 2022 est «\\xa0trompeuse\\xa0»', 'description': \"La promesse de neutralité carbone affichée par les organisateurs de la Coupe du monde 2022 au Qatar est «\\xa0trompeuse\\xa0», affirme l'ONG Carbon Market Watch, dans un rapport publié mardi.\", 'url': 'https://www.lequipe.fr/Football/Actualites/Selon-une-ong-la-promesse-de-neutralite-carbone-de-la-coupe-du-monde-2022-est-trompeuse/1336178', 'urlToImage': 'https://medias.lequipe.fr/img-photo-jpg/les-organisateurs-de-la-coupe-du-monde-2022-sont-sous-le-feu-des-critiques-julien-scussel-l-equipe/1500000001649353/0:0,1995:1330-640-427-75/6c346.jpg', 'publishedAt': '2022-05-31T12:45:00+00:00', 'content': \"La neutralité carbone de la compétition, c'était la grande promesse du comité d'organisation de la Coupe du monde 2022. Et selon un rapport publié mardi par l'ONG Carbon Market Watch, cette promesse … [+2381 chars]\"}, {'source': {'id': 'lequipe', 'name': \"L'equipe\"}, 'author': \"L'EQUIPE\", 'title': 'OL\\xa0: Yannis Lagha va signer pro', 'description': \"Yannis Lagha, capitaine de l'équipe victorieuse de la Coupe Gambardella début mai, s'engagera dans les prochains jours avec l'OL, son club formateur.\", 'url': 'https://www.lequipe.fr/Football/Actualites/Ol-yannis-lagha-va-signer-pro/1336177', 'urlToImage': 'https://medias.lequipe.fr/img-photo-jpg/yannis-lagha-va-signer-un-contrat-de-trois-ans-avec-son-club-formateur-b-papon-l-equipe/1500000001649351/0:0,1996:1331-640-427-75/74d5c.jpg', 'publishedAt': '2022-05-31T12:35:00+00:00', 'content': 'Le Franco-algérien était courtisé par plusieurs clubs étrangers, notamment en Bundesliga. Mais il avait pour volonté de donner la priorité à son club formateur pour démarrer sa carrière professionnel… [+2 chars]'}]\n"
     ]
    }
   ],
   "source": [
    "for element in list(dictionnary.keys()):\n",
    "    print(\"##############################################\")\n",
    "    print(\"Key: \", element, \"// Values: \", dictionnary[element])"
   ]
  },
  {
   "cell_type": "code",
   "execution_count": null,
   "metadata": {},
   "outputs": [
    {
     "name": "stdout",
     "output_type": "stream",
     "text": [
      "###############################################\n",
      "(0, {'source': {'id': 'lequipe', 'name': \"L'equipe\"}, 'author': \"L'EQUIPE\", 'title': 'Julien Dupuy non conservé dans le staff de Toulon', 'description': \"En fin de contrat à l'issue de la saison, Julien Dupuy ne sera pas prolongé au sein du staff du RCT.\", 'url': 'https://www.lequipe.fr/Rugby/Actualites/Julien-dupuy-non-conserve-dans-le-staff-de-toulon/1336191', 'urlToImage': 'https://medias.lequipe.fr/img-photo-jpg/julien-dupuy-avait-rejoint-le-rct-en-2020-n-luttiau-l-equipe/1500000001649377/0:0,1995:1330-640-427-75/2ce0c.jpg', 'publishedAt': '2022-05-31T13:52:00+00:00', 'content': \"Arrivé au Rugby Club Toulonnais en mars\\xa02020 en remplacement de Sébastien Tillous-Borde au poste d'entraîneur des arrières, Julien Dupuy va quitter le club varois à la fin de la saison. Son contrat, … [+162 chars]\"})\n",
      "###############################################\n",
      "(1, {'source': {'id': 'lequipe', 'name': \"L'equipe\"}, 'author': \"L'EQUIPE\", 'title': 'Thomas Darracq nommé sélectionneur-entraîneur du quinze de France féminin, Annick Hayraud reste manager', 'description': \"La Fédération française de rugby a annoncé ce mardi que Thomas Darracq devenait «\\xa0sélectionneur-entraîneur\\xa0» du quinze de France féminin. Annick Hayraud demeure manager de l'équipe, tandis que les arrivées dans le staff de Gaëlle Mignot et David Ortiz ont été…\", 'url': 'https://www.lequipe.fr/Rugby/Actualites/Thomas-darracq-nomme-selectionneur-entraineur-du-quinze-de-france-feminin-annick-hayraud-reste-manager/1336188', 'urlToImage': 'https://medias.lequipe.fr/img-photo-jpg/thomas-darracq-avec-annick-hayraud-a-martin-l-equipe/1500000001649373/234:162,1857:1243-640-427-75/e5d9b.jpg', 'publishedAt': '2022-05-31T13:35:00+00:00', 'content': 'La Fédération française de rugby a annoncé que Thomas Darracq devenait «\\xa0sélectionneur-entraîneur\\xa0» du quinze de France féminin. Le technicien avait rejoint le staff de la sélection en juillet 2021 e… [+1754 chars]'})\n",
      "###############################################\n",
      "(2, {'source': {'id': 'lequipe', 'name': \"L'equipe\"}, 'author': \"L'EQUIPE\", 'title': \"Thomas Pesquet invité de «\\xa0L'Équipe du Soir\\xa0»\", 'description': \"Thomas Pesquet sera l'invité <i>L'Équipe du Soir</i> ce mardi à 19h45. L'astronaute français occupera le rôle de président de l'émission, au côté du présentateur Olivier Ménard.\", 'url': 'https://www.lequipe.fr/Medias/Actualites/Thomas-pesquet-invite-de-l-equipe-du-soir/1336067', 'urlToImage': 'https://medias.lequipe.fr/img-photo-jpg/thomas-pesquet-sera-le-president-de-l-equipe-du-soir-ce-mardi-a-19h45-n-luttiau-l-equipe/1500000001649139/399:63,1718:943-640-427-75/06309.jpg', 'publishedAt': '2022-05-31T13:30:00+00:00', 'content': \"Thomas Pesquet président de L'Équipe du Soir. Mardi, à 19h45, l'astronaute sera l'invité de l'émission de la chaîne L'Équipe animée par Olivier Ménard. Premier Français à prendre les commandes de la … [+190 chars]\"})\n",
      "###############################################\n",
      "(3, {'source': {'id': 'lequipe', 'name': \"L'equipe\"}, 'author': \"L'EQUIPE\", 'title': 'Francis de Taddeo nommé directeur du centre de formation de Metz', 'description': \"Francis de Taddeo a été nommé, mardi, directeur du centre de formation de Metz, poste qu'il a occupé entre\\xa01996 et\\xa02006.\", 'url': 'https://www.lequipe.fr/Football/Actualites/Francis-de-taddeo-nomme-directeur-du-centre-de-formation-de-metz/1336187', 'urlToImage': 'https://medias.lequipe.fr/img-photo-jpg/francis-de-taddeo-est-de-retour-a-metz-stephane-mantey-l-equipe/1500000001649369/0:0,1982:1322-640-427-75/355ba.jpg', 'publishedAt': '2022-05-31T13:27:00+00:00', 'content': \"De Taddeo et le FC Metz, c'est une longue histoire débutée en 1986. Il avait pris en charge la plupart des équipes de la formation avant de succéder à Philippe Hinschberger dix ans plus tard, en tant… [+181 chars]\"})\n",
      "###############################################\n",
      "(4, {'source': {'id': 'lequipe', 'name': \"L'equipe\"}, 'author': \"L'EQUIPE\", 'title': \"Diego Martinez nouvel entraîneur de l'Espanyol Barcelone\", 'description': \"L'Espanyol Barcelone a présenté ce mardi Diego Martinez, qui s'est engagé pour les deux prochaines saisons sur le banc du club catalan.\", 'url': 'https://www.lequipe.fr/Football/Actualites/Diego-martinez-nouvel-entraineur-de-l-espanyol-barcelone/1336186', 'urlToImage': 'https://medias.lequipe.fr/img-photo-jpg/diego-martinez-nouveau-coach-de-l-espanyol-barcelone-anp-sport-anp/1500000001649364/0:0,1997:1331-640-427-75/91d5a.jpg', 'publishedAt': '2022-05-31T13:20:00+00:00', 'content': \"Il a été présenté dans la foulée au RCDE Stadium, l'enceinte de l'Espanyol. «\\xa0C'est un privilège et un honneur pour moi d'intégrer ce club, a déclaré Diego Martinez. J'ai comme ambition de bâtir une … [+141 chars]\"})\n",
      "###############################################\n",
      "(5, {'source': {'id': 'lequipe', 'name': \"L'equipe\"}, 'author': \"L'EQUIPE\", 'title': 'Le skateur Édouard Damestoy partage sa passion pour la rampe dans une série documentaire', 'description': 'Seul Européen spécialiste de la rampe (un module en forme de «\\xa0U\\xa0»), Édouard Damestoy dévoile une série documentaire sur sa discipline, star des années 1990 avec la légende Tony Hawk. Une plongée dans une communauté et son histoire.', 'url': 'https://www.lequipe.fr/Adrenaline/Skateboard/Actualites/Le-skateur-edouard-damestoy-partage-sa-passion-pour-la-rampe-dans-une-serie-documentaire/1336185', 'urlToImage': 'https://medias.lequipe.fr/img-photo-jpg/edouard-damestoy-aux-x-games-2022-j-halayko-espn/1500000001649362/3:37,1725:1185-640-427-75/4ebb8.jpg', 'publishedAt': '2022-05-31T13:14:00+00:00', 'content': \"Son 900 a marqué des générations de skateurs. En 1999, l'Américain Tony Hawk pose ce trick pendant des X Games dans la baie de San Francisco et entre dans la légende. Deux tours et demi dans les airs… [+2702 chars]\"})\n",
      "###############################################\n",
      "(6, {'source': {'id': 'lequipe', 'name': \"L'equipe\"}, 'author': \"L'EQUIPE\", 'title': \"L'ASSE porte plainte contre X après les incidents contre Auxerre\", 'description': \"Saint-Etienne a porté plainte contre X mardi, à la suite des graves incidents survenus à l'issue du barrage retour entre l'ASSE et Auxerre dimanche.\", 'url': 'https://www.lequipe.fr/Football/Actualites/L-asse-porte-plainte-contre-x-apres-les-incidents-contre-auxerre/1336184', 'urlToImage': 'https://medias.lequipe.fr/img-photo-jpg/le-chaos-apres-la-descente-en-l2-a-reau-l-equipe/1500000001649361/0:0,1995:1330-640-427-75/4dbf3.jpg', 'publishedAt': '2022-05-31T13:13:00+00:00', 'content': \"Deux jours après les graves incidents survenus à la fin du barrage retour contre l'AJ Auxerre, et la descente en Ligue\\xa02 actée à l'issue de la séance de tirs au but, l'AS Saint-Etienne a déposé une p… [+868 chars]\"})\n",
      "###############################################\n",
      "(7, {'source': {'id': 'lequipe', 'name': \"L'equipe\"}, 'author': \"L'EQUIPE\", 'title': \"Sergio Perez prolonge chez Red Bull jusqu'en 2024\", 'description': \"Deux jours après la victoire du Mexicain à Monaco, Red Bull a officialisé mardi la prolongation de contrat de Sergio Perez jusqu'en 2024, soit deux saisons supplémentaires, au côté de Max Verstappen.\", 'url': 'https://www.lequipe.fr/Formule-1/Actualites/Sergio-perez-prolonge-chez-red-bull-jusqu-en-2024/1336183', 'urlToImage': 'https://medias.lequipe.fr/img-photo-jpg/sergio-perez-lors-de-son-succes-a-monaco-dimanche-dernier-f-porcu-l-equipe/1500000001649360/0:0,1996:1331-640-427-75/d038e.jpg', 'publishedAt': '2022-05-31T13:12:00+00:00', 'content': \"Moins de quarante-huit heures après sa troisième victoire en Grand Prix, la première sur le mythique tracé de Monaco au terme d'une course à rebondissements, Sergio Perez a signé une prolongation de … [+2356 chars]\"})\n",
      "###############################################\n",
      "(8, {'source': {'id': 'lequipe', 'name': \"L'equipe\"}, 'author': \"L'EQUIPE\", 'title': 'Selon une ONG, la promesse de neutralité carbone de la Coupe du monde 2022 est «\\xa0trompeuse\\xa0»', 'description': \"La promesse de neutralité carbone affichée par les organisateurs de la Coupe du monde 2022 au Qatar est «\\xa0trompeuse\\xa0», affirme l'ONG Carbon Market Watch, dans un rapport publié mardi.\", 'url': 'https://www.lequipe.fr/Football/Actualites/Selon-une-ong-la-promesse-de-neutralite-carbone-de-la-coupe-du-monde-2022-est-trompeuse/1336178', 'urlToImage': 'https://medias.lequipe.fr/img-photo-jpg/les-organisateurs-de-la-coupe-du-monde-2022-sont-sous-le-feu-des-critiques-julien-scussel-l-equipe/1500000001649353/0:0,1995:1330-640-427-75/6c346.jpg', 'publishedAt': '2022-05-31T12:45:00+00:00', 'content': \"La neutralité carbone de la compétition, c'était la grande promesse du comité d'organisation de la Coupe du monde 2022. Et selon un rapport publié mardi par l'ONG Carbon Market Watch, cette promesse … [+2381 chars]\"})\n",
      "###############################################\n",
      "(9, {'source': {'id': 'lequipe', 'name': \"L'equipe\"}, 'author': \"L'EQUIPE\", 'title': 'OL\\xa0: Yannis Lagha va signer pro', 'description': \"Yannis Lagha, capitaine de l'équipe victorieuse de la Coupe Gambardella début mai, s'engagera dans les prochains jours avec l'OL, son club formateur.\", 'url': 'https://www.lequipe.fr/Football/Actualites/Ol-yannis-lagha-va-signer-pro/1336177', 'urlToImage': 'https://medias.lequipe.fr/img-photo-jpg/yannis-lagha-va-signer-un-contrat-de-trois-ans-avec-son-club-formateur-b-papon-l-equipe/1500000001649351/0:0,1996:1331-640-427-75/74d5c.jpg', 'publishedAt': '2022-05-31T12:35:00+00:00', 'content': 'Le Franco-algérien était courtisé par plusieurs clubs étrangers, notamment en Bundesliga. Mais il avait pour volonté de donner la priorité à son club formateur pour démarrer sa carrière professionnel… [+2 chars]'})\n"
     ]
    }
   ],
   "source": [
    "# And now we have lists in dictionaries(it's a JSON file actually but it's very similar)\n",
    "# We will discover the information of the article key.\n",
    "\n",
    "for element in enumerate(dictionnary[\"articles\"]):\n",
    "    print(\"###############################################\")\n",
    "    print(element)"
   ]
  },
  {
   "cell_type": "code",
   "execution_count": null,
   "metadata": {},
   "outputs": [
    {
     "name": "stdout",
     "output_type": "stream",
     "text": [
      " Key :  source Values :  {'id': 'lequipe', 'name': \"L'equipe\"}\n",
      " Key :  author Values :  L'EQUIPE\n",
      " Key :  title Values :  Julien Dupuy non conservé dans le staff de Toulon\n",
      " Key :  description Values :  En fin de contrat à l'issue de la saison, Julien Dupuy ne sera pas prolongé au sein du staff du RCT.\n",
      " Key :  url Values :  https://www.lequipe.fr/Rugby/Actualites/Julien-dupuy-non-conserve-dans-le-staff-de-toulon/1336191\n",
      " Key :  urlToImage Values :  https://medias.lequipe.fr/img-photo-jpg/julien-dupuy-avait-rejoint-le-rct-en-2020-n-luttiau-l-equipe/1500000001649377/0:0,1995:1330-640-427-75/2ce0c.jpg\n",
      " Key :  publishedAt Values :  2022-05-31T13:52:00+00:00\n",
      " Key :  content Values :  Arrivé au Rugby Club Toulonnais en mars 2020 en remplacement de Sébastien Tillous-Borde au poste d'entraîneur des arrières, Julien Dupuy va quitter le club varois à la fin de la saison. Son contrat, … [+162 chars]\n"
     ]
    }
   ],
   "source": [
    "# So if we keep going, it gives us another dictionary!\n",
    "for element in dictionnary[\"articles\"][0].keys():\n",
    "    print(\" Key : \", element, \"Values : \", dictionnary[\"articles\"][0][element])"
   ]
  },
  {
   "cell_type": "markdown",
   "metadata": {},
   "source": [
    "### Make a script that allows you to take details of the last ten news from the team or another site. Store them in a nice CSV or excel file."
   ]
  },
  {
   "cell_type": "code",
   "execution_count": null,
   "metadata": {},
   "outputs": [],
   "source": []
  }
 ],
 "metadata": {
  "interpreter": {
   "hash": "aee8b7b246df8f9039afb4144a1f6fd8d2ca17a180786b69acc140d282b71a49"
  },
  "kernelspec": {
   "display_name": "Python 3.10.4 64-bit",
   "language": "python",
   "name": "python3"
  },
  "language_info": {
   "codemirror_mode": {
    "name": "ipython",
    "version": 3
   },
   "file_extension": ".py",
   "mimetype": "text/x-python",
   "name": "python",
   "nbconvert_exporter": "python",
   "pygments_lexer": "ipython3",
   "version": "3.10.4"
  }
 },
 "nbformat": 4,
 "nbformat_minor": 4
}
