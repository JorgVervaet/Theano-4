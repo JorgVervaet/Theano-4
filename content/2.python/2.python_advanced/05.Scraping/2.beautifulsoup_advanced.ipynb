{
 "cells": [
  {
   "cell_type": "markdown",
   "metadata": {},
   "source": [
    "### Targeted information retrieval"
   ]
  },
  {
   "cell_type": "markdown",
   "metadata": {},
   "source": [
    "We have seen how to parse a webpage, which retrieves the information without distinction.\n",
    "\n",
    "But, in general, the purpose of scraping is to automate the collection of targeted information on the web.\n"
   ]
  },
  {
   "cell_type": "code",
   "execution_count": 1,
   "metadata": {},
   "outputs": [],
   "source": [
    "from bs4 import BeautifulSoup\n",
    "import requests"
   ]
  },
  {
   "cell_type": "markdown",
   "metadata": {},
   "source": [
    "Let's say I want to scrape the description of the latest movies released in theaters.\n",
    "\n",
    "So we'll go to the Allociné website and try to find the tags that will give me links to the specific pages of these movies to get their summaries."
   ]
  },
  {
   "cell_type": "markdown",
   "metadata": {},
   "source": [
    "#### Recovery of the url of the pages of films newly released in the theaters"
   ]
  },
  {
   "cell_type": "code",
   "execution_count": 2,
   "metadata": {},
   "outputs": [
    {
     "name": "stdout",
     "output_type": "stream",
     "text": [
      "http://www.allocine.fr/ 200\n"
     ]
    }
   ],
   "source": [
    "url = \"http://www.allocine.fr/\"\n",
    "r = requests.get(url)\n",
    "print(url, r.status_code)\n",
    "soup = BeautifulSoup(r.content, \"lxml\")\n",
    "#soup"
   ]
  },
  {
   "cell_type": "markdown",
   "metadata": {},
   "source": [
    "On your web browser (Chrome, Firefox,...), you can use the \"inspect\" function (right click -> inspect) and drag your mouse to the areas of the page that interest you. At the same time you will see the part of the HTML script highlighted that corresponds to the area that interests you.\n",
    "\n",
    "That's how you find the tags that you are interested in."
   ]
  },
  {
   "cell_type": "markdown",
   "metadata": {},
   "source": [
    "I notice that the relative link of the web page specific to the new movie on the poster is stored in these tags:\n",
    "\n",
    "```html\n",
    "<a class=\"meta-title meta-title-link\" href=\"/film/fichefilm_gen_cfilm=235582.html\" title=\"Le Grand Bain\">Le Grand Bain</a>\n",
    "```\n"
   ]
  },
  {
   "cell_type": "code",
   "execution_count": 3,
   "metadata": {},
   "outputs": [
    {
     "name": "stdout",
     "output_type": "stream",
     "text": [
      "Un homme en colère\n",
      "West Side Story\n",
      "Lucifer\n",
      "The Resident\n",
      "\n",
      "Cinéma\n",
      "\n",
      "\n",
      "Séries\n",
      "\n",
      "\n",
      "Trailers\n",
      "\n",
      "\n",
      "DVD\n",
      "\n",
      "\n",
      "VOD\n",
      "\n",
      "\n",
      "Kids\n",
      "\n",
      "séances cinéma\n",
      "news\n",
      "dossiers\n",
      "émissions AlloCiné\n",
      "dernières bandes-annonces\n",
      "Agenda des sorties\n",
      "Films pour enfants à l'affiche\n",
      "Meilleurs films\n",
      "Meilleurs documentaires\n",
      "Avant-premières\n",
      "Box Office\n",
      "Meilleurs films 2019\n",
      "Tous les films pour enfants\n",
      "Tous les films\n",
      "Sorties de la semaine\n",
      "Top Gun: Maverick\n",
      "Hommes au bord de la crise de nerfs\n",
      "Les Crimes du Futur\n",
      "Birds of America\n",
      "Ça tourne à Saint-Pierre et Miquelon\n",
      "Shaan\n",
      "L'Ombre des pères\n",
      "F3: Fun and Frustration\n",
      "Doctor Strange in the Multiverse of Madness\n",
      "J'adore ce que vous faites\n",
      "Coupez !\n",
      "The Northman\n",
      "Tous les films encore à l'affiche\n",
      " Elvis \n",
      " \n",
      " Compétition officielle\n",
      " \n",
      " C'est magnifique !\n",
      " \n",
      " Men\n",
      " \n",
      " Black Phone\n",
      " \n",
      "Tous les films à venir\n",
      "Dernières news cinéma\n",
      "Star Wars : un film Mandalorian est \"inévitable\"\n",
      "The Batman 2 : quels méchants Robert Pattinson va-t-il affronter dans la suite ?\n",
      "Ce soir à la télé : un remake raté qui donne envie de revoir l’original\n",
      "La bande-annonce d'Elvis de Baz Luhrmann est tombée ! Déhanchez-vous avec le King !\n",
      "Bill Skarsgård : le clown de Ça a bien changé ! Sa transformation physique est impressionnante\n",
      "Buzz l'éclair : la nouvelle voix française dévoilée... Et vous allez être étonnés !\n",
      "Tous les dossiers cinéma\n",
      "Bandes-annonces à ne pas manquer\n",
      "Don Juan Bande-annonce VF\n",
      "Disney+\n",
      "Netflix\n",
      "Amazon Prime Video\n",
      "Canal+\n",
      "Bande-annonce : The Boys dévoilent leurs pouvoirs, Soldier Boy débarque et Le Protecteur pète un plomb dans la saison 3\n",
      "Qui est Vecna dans Stranger Things ? La révélation-choc de la saison 4 !\n",
      "Obi-Wan Kenobi : \"le Star Wars que l’on attendait\" ou \"parfois ennuyeux\" : que pense la presse de la série Disney+ ?\n",
      "Séries à voir  sur CANAL+\n",
      "Halo\n",
      "La Flamme\n",
      "The Responder\n",
      "Pourquoi pas Evans ?\n",
      "Infiniti\n",
      "Meilleures séries  sur Netflix\n",
      "Arcane\n",
      "Breaking Bad\n",
      "Notre planète\n",
      "Peaky Blinders\n",
      "L'Attaque des Titans\n",
      "Films disponibles  sur Disney+\n",
      "Doctor Strange\n",
      "Avatar\n",
      "Alerte rouge\n",
      "Avengers: Endgame\n",
      "Avengers: Infinity War\n",
      "Films disponibles sur Prime Video\n",
      "Snowpiercer, Le Transperceneige\n",
      "Avant toi\n",
      "Gold\n",
      "The Game\n",
      "La Défense Lincoln\n",
      "Les derniers films en VOD\n",
      "Les Enquêtes du département V : L'Effet Papillon\n",
      "Umma\n",
      "Les Promesses\n",
      "Les dernières séries en VOD\n",
      "Chicago Fire\n",
      "En thérapie\n",
      "Les Enquêtes de Murdoch\n",
      "Sorties DVD & Blu-Ray\n",
      "Dieu n'est pas mort 4\n",
      "Gasoline Alley\n",
      "Raging Fire\n",
      "Meilleures séries\n",
      "Episodes inédits ce soir à la TV\n",
      "Séries tv inédites à voir\n",
      "Nouvelles saisons attendues\n",
      "Toutes les séries\n",
      "Dernières vidéos de séries\n",
      "Episodes inédits à la TV demain\n",
      "Toutes les vidéos de séries\n",
      "Tous les teasers de séries\n",
      "Top séries de la semaine\n",
      "Stranger Things\n",
      "Le Flambeau, les aventuriers de Chupacabra\n",
      "Star Wars: Obi-Wan Kenobi\n",
      "Qui a tué Sara ?\n",
      "Les séries les plus attendues\n",
      "Le Seigneur des Anneaux : Les Anneaux de Pouvoir\n",
      "She-Hulk : Avocate\n",
      "Game Of Thrones: House of the Dragon\n",
      "The Terminal List\n",
      "L'actu séries\n",
      "Demain nous appartient : bientôt un nouveau mariage dans la série ?\n",
      "Quiz Suits : 10 questions sur la série qui a révélé Meghan Markle\n",
      "Stranger Things 4 : les premières images de la suite dévoilées !\n",
      "Fun Facts\n",
      "Faux raccord\n",
      "Fanzone\n",
      "Aviez-vous remarqué ?\n",
      "Give Me Five\n",
      "The Big Fan Theory\n",
      "AlloCiné Zap\n",
      "AlloCiné Séries\n",
      "Top 5\n",
      "Ma scène préférée\n",
      "Stars\n",
      "Toutes les stars françaises\n",
      "Toutes les stars américaines\n",
      "Top stars complet\n",
      "Bandes originales\n",
      "Musique de films\n",
      "Musique de séries TV\n",
      "News jeux vidéo\n",
      "Filmstarts\n",
      "Beyazperde\n",
      "SensaCine España\n",
      "SensaCine México\n",
      "Adorocinema\n",
      "Préférences cookies\n",
      "\n",
      "Back to Top\n",
      "\n"
     ]
    }
   ],
   "source": [
    "for p in soup.find_all(\"a\"):\n",
    "    print(p.text)"
   ]
  },
  {
   "cell_type": "markdown",
   "metadata": {},
   "source": [
    "This time, the site is more difficult to \"extract\". Let's use much more specific parameters to the search function `find_all`."
   ]
  },
  {
   "cell_type": "code",
   "execution_count": 4,
   "metadata": {},
   "outputs": [
    {
     "name": "stdout",
     "output_type": "stream",
     "text": [
      "<a class=\"meta-title meta-title-link\" href=\"/film/fichefilm_gen_cfilm=251390.html\" title=\"Doctor Strange in the Multiverse of Madness\">Doctor Strange in the Multiverse of Madness</a>\n",
      "<a class=\"meta-title meta-title-link\" href=\"/film/fichefilm_gen_cfilm=293272.html\" title=\"Ténor\">Ténor</a>\n",
      "<a class=\"meta-title meta-title-link\" href=\"/film/fichefilm_gen_cfilm=284676.html\" title=\"Les Passagers de la nuit\">Les Passagers de la nuit</a>\n",
      "<a class=\"meta-title meta-title-link\" href=\"/film/fichefilm_gen_cfilm=292928.html\" title=\"Le Roi cerf\">Le Roi cerf</a>\n",
      "<a class=\"meta-title meta-title-link\" href=\"/film/fichefilm_gen_cfilm=284678.html\" title=\"Varsovie 83, une affaire d'État\">Varsovie 83, une affaire d'État</a>\n",
      "<a class=\"meta-title meta-title-link\" href=\"/film/fichefilm_gen_cfilm=303190.html\" title=\"Soirée IMA, film et showcase\">Soirée IMA, film et showcase</a>\n",
      "<a class=\"meta-title meta-title-link\" href=\"/film/fichefilm_gen_cfilm=279697.html\" title=\"Petite leçon d’amour\">Petite leçon d’amour</a>\n",
      "<a class=\"meta-title meta-title-link\" href=\"/film/fichefilm_gen_cfilm=285488.html\" title=\"Miss Marx\">Miss Marx</a>\n",
      "<a class=\"meta-title meta-title-link\" href=\"/film/fichefilm_gen_cfilm=293098.html\" title=\"Il buco\">Il buco</a>\n",
      "<a class=\"meta-title meta-title-link\" href=\"/film/fichefilm_gen_cfilm=283746.html\" title=\"Limbo\">Limbo</a>\n",
      "<a class=\"meta-title meta-title-link\" href=\"/film/fichefilm_gen_cfilm=228087.html\" title=\"Les Animaux Fantastiques : les Secrets de Dumbledore\">Les Animaux Fantastiques : les Secrets de Dumbledore</a>\n",
      "<a class=\"meta-title meta-title-link\" href=\"/film/fichefilm_gen_cfilm=274484.html\" title=\"Qu'est-ce qu'on a tous fait au Bon Dieu ?\">Qu'est-ce qu'on a tous fait au Bon Dieu ?</a>\n",
      "<a class=\"meta-title meta-title-link\" href=\"/film/fichefilm_gen_cfilm=287082.html\" title=\"Le Secret de la cité perdue\">Le Secret de la cité perdue</a>\n",
      "<a class=\"meta-title meta-title-link\" href=\"/film/fichefilm_gen_cfilm=279664.html\" title=\"Downton Abbey II : Une nouvelle ère\">Downton Abbey II : Une nouvelle ère</a>\n",
      "<a class=\"meta-title meta-title-link\" href=\"/series/ficheserie_gen_cserie=12209.html\" title=\"Halo\">Halo</a>\n",
      "<a class=\"meta-title meta-title-link\" href=\"/series/ficheserie_gen_cserie=28872.html\" title=\"Les 7 vies de Léa\">Les 7 vies de Léa</a>\n",
      "<a class=\"meta-title meta-title-link\" href=\"/series/ficheserie_gen_cserie=31219.html\" title=\"En un battement\">En un battement</a>\n",
      "<a class=\"meta-title meta-title-link\" href=\"/series/ficheserie_gen_cserie=25546.html\" title=\"Moon Knight\">Moon Knight</a>\n",
      "<a class=\"meta-title meta-title-link\" href=\"/series/ficheserie_gen_cserie=29486.html\" title=\"Visitors\">Visitors</a>\n",
      "<a class=\"meta-title meta-title-link\" href=\"/series/ficheserie_gen_cserie=31595.html\" title=\"Le Flambeau, les aventuriers de Chupacabra\">Le Flambeau, les aventuriers de Chupacabra</a>\n",
      "<a class=\"meta-title meta-title-link\" href=\"/series/ficheserie_gen_cserie=29175.html\" title=\"Visions\">Visions</a>\n",
      "<a class=\"meta-title meta-title-link\" href=\"/series/ficheserie_gen_cserie=25501.html\" title=\"Star Wars: Obi-Wan Kenobi\">Star Wars: Obi-Wan Kenobi</a>\n"
     ]
    }
   ],
   "source": [
    "# In addition to the tag `a`, which is easily identifiable, we notice some additional\n",
    "# information such as the value of the class variable of these identical tags.\n",
    "for elem in soup.find_all(\"a\", attrs={\"class\": \"meta-title meta-title-link\"}):\n",
    "    print(elem)"
   ]
  },
  {
   "cell_type": "markdown",
   "metadata": {},
   "source": [
    "#### Recovery of `href`"
   ]
  },
  {
   "cell_type": "markdown",
   "metadata": {},
   "source": [
    "We have noticed the presence of `href` links to the pages that interest us. Let's go get them back:"
   ]
  },
  {
   "cell_type": "code",
   "execution_count": 12,
   "metadata": {},
   "outputs": [
    {
     "name": "stdout",
     "output_type": "stream",
     "text": [
      "/film/fichefilm_gen_cfilm=251390.html\n",
      "/film/fichefilm_gen_cfilm=293272.html\n",
      "/film/fichefilm_gen_cfilm=284676.html\n",
      "/film/fichefilm_gen_cfilm=292928.html\n",
      "/film/fichefilm_gen_cfilm=284678.html\n",
      "/film/fichefilm_gen_cfilm=303190.html\n",
      "/film/fichefilm_gen_cfilm=279697.html\n",
      "/film/fichefilm_gen_cfilm=285488.html\n",
      "/film/fichefilm_gen_cfilm=293098.html\n",
      "/film/fichefilm_gen_cfilm=283746.html\n",
      "/film/fichefilm_gen_cfilm=228087.html\n",
      "/film/fichefilm_gen_cfilm=274484.html\n",
      "/film/fichefilm_gen_cfilm=287082.html\n",
      "/film/fichefilm_gen_cfilm=279664.html\n",
      "/series/ficheserie_gen_cserie=12209.html\n",
      "/series/ficheserie_gen_cserie=28872.html\n",
      "/series/ficheserie_gen_cserie=31219.html\n",
      "/series/ficheserie_gen_cserie=25546.html\n",
      "/series/ficheserie_gen_cserie=29486.html\n",
      "/series/ficheserie_gen_cserie=31595.html\n",
      "/series/ficheserie_gen_cserie=29175.html\n",
      "/series/ficheserie_gen_cserie=25501.html\n"
     ]
    }
   ],
   "source": [
    "for elem in soup.find_all(\"a\", attrs={\"class\": \"meta-title meta-title-link\"}):\n",
    "    print(elem.get(\"href\"))"
   ]
  },
  {
   "cell_type": "markdown",
   "metadata": {},
   "source": [
    "Can you retrieve the titles for me by searching for `\"title\"` in the items of the previous list?"
   ]
  },
  {
   "cell_type": "code",
   "execution_count": 14,
   "metadata": {},
   "outputs": [
    {
     "name": "stdout",
     "output_type": "stream",
     "text": [
      "Doctor Strange in the Multiverse of Madness\n",
      "Ténor\n",
      "Les Passagers de la nuit\n",
      "Le Roi cerf\n",
      "Varsovie 83, une affaire d'État\n",
      "Soirée IMA, film et showcase\n",
      "Petite leçon d’amour\n",
      "Miss Marx\n",
      "Il buco\n",
      "Limbo\n",
      "Les Animaux Fantastiques : les Secrets de Dumbledore\n",
      "Qu'est-ce qu'on a tous fait au Bon Dieu ?\n",
      "Le Secret de la cité perdue\n",
      "Downton Abbey II : Une nouvelle ère\n",
      "Halo\n",
      "Les 7 vies de Léa\n",
      "En un battement\n",
      "Moon Knight\n",
      "Visitors\n",
      "Le Flambeau, les aventuriers de Chupacabra\n",
      "Visions\n",
      "Star Wars: Obi-Wan Kenobi\n"
     ]
    }
   ],
   "source": [
    "for elem in soup.find_all(\"a\", attrs={\"class\": \"meta-title meta-title-link\"}):\n",
    "    print(elem.get(\"title\"))"
   ]
  },
  {
   "cell_type": "markdown",
   "metadata": {},
   "source": [
    "#### Get summary"
   ]
  },
  {
   "cell_type": "markdown",
   "metadata": {},
   "source": [
    "Let's start by building the URL that we will use to retrieve the summaries.\n",
    "\n",
    "Start by putting the `href` values in a list of links.\n"
   ]
  },
  {
   "cell_type": "code",
   "execution_count": 15,
   "metadata": {},
   "outputs": [
    {
     "data": {
      "text/plain": [
       "['/film/fichefilm_gen_cfilm=251390.html',\n",
       " '/film/fichefilm_gen_cfilm=293272.html',\n",
       " '/film/fichefilm_gen_cfilm=284676.html',\n",
       " '/film/fichefilm_gen_cfilm=292928.html',\n",
       " '/film/fichefilm_gen_cfilm=284678.html',\n",
       " '/film/fichefilm_gen_cfilm=303190.html',\n",
       " '/film/fichefilm_gen_cfilm=279697.html',\n",
       " '/film/fichefilm_gen_cfilm=285488.html',\n",
       " '/film/fichefilm_gen_cfilm=293098.html',\n",
       " '/film/fichefilm_gen_cfilm=283746.html',\n",
       " '/film/fichefilm_gen_cfilm=228087.html',\n",
       " '/film/fichefilm_gen_cfilm=274484.html',\n",
       " '/film/fichefilm_gen_cfilm=287082.html',\n",
       " '/film/fichefilm_gen_cfilm=279664.html',\n",
       " '/series/ficheserie_gen_cserie=12209.html',\n",
       " '/series/ficheserie_gen_cserie=28872.html',\n",
       " '/series/ficheserie_gen_cserie=31219.html',\n",
       " '/series/ficheserie_gen_cserie=25546.html',\n",
       " '/series/ficheserie_gen_cserie=29486.html',\n",
       " '/series/ficheserie_gen_cserie=31595.html',\n",
       " '/series/ficheserie_gen_cserie=29175.html',\n",
       " '/series/ficheserie_gen_cserie=25501.html']"
      ]
     },
     "execution_count": 15,
     "metadata": {},
     "output_type": "execute_result"
    }
   ],
   "source": [
    "links = []\n",
    "for elem in soup.find_all(\"a\", attrs={\"class\": \"meta-title meta-title-link\"}):\n",
    "    links.append(elem.get(\"href\"))\n",
    "links"
   ]
  },
  {
   "cell_type": "markdown",
   "metadata": {},
   "source": [
    "The absolute URL of the movie pages we are looking for are built in this form: http://www.allocine.fr/film/fichefilm_gen_cfilm=243835.html\n",
    "\n",
    "It is therefore necessary to take the previous list and build the absolute URLs for our search\n",
    "It's up to you to play.\n",
    "\n",
    "NB: Do not take the links for the shows(series). We only want movies."
   ]
  },
  {
   "cell_type": "code",
   "execution_count": 16,
   "metadata": {},
   "outputs": [
    {
     "data": {
      "text/plain": [
       "['http://www.allocine.fr/film/fichefilm_gen_cfilm=251390.html',\n",
       " 'http://www.allocine.fr/film/fichefilm_gen_cfilm=293272.html',\n",
       " 'http://www.allocine.fr/film/fichefilm_gen_cfilm=284676.html',\n",
       " 'http://www.allocine.fr/film/fichefilm_gen_cfilm=292928.html',\n",
       " 'http://www.allocine.fr/film/fichefilm_gen_cfilm=284678.html',\n",
       " 'http://www.allocine.fr/film/fichefilm_gen_cfilm=303190.html',\n",
       " 'http://www.allocine.fr/film/fichefilm_gen_cfilm=279697.html',\n",
       " 'http://www.allocine.fr/film/fichefilm_gen_cfilm=285488.html',\n",
       " 'http://www.allocine.fr/film/fichefilm_gen_cfilm=293098.html',\n",
       " 'http://www.allocine.fr/film/fichefilm_gen_cfilm=283746.html',\n",
       " 'http://www.allocine.fr/film/fichefilm_gen_cfilm=228087.html',\n",
       " 'http://www.allocine.fr/film/fichefilm_gen_cfilm=274484.html',\n",
       " 'http://www.allocine.fr/film/fichefilm_gen_cfilm=287082.html',\n",
       " 'http://www.allocine.fr/film/fichefilm_gen_cfilm=279664.html']"
      ]
     },
     "execution_count": 16,
     "metadata": {},
     "output_type": "execute_result"
    }
   ],
   "source": [
    "movie_links = [\"http://www.allocine.fr\" + elem for elem in links if \"film\" in elem]\n",
    "movie_links"
   ]
  },
  {
   "cell_type": "markdown",
   "metadata": {},
   "source": [
    "Finally, on each page, the title and synopsis must be retrieved. Let's try for a movie, the first of the list."
   ]
  },
  {
   "cell_type": "code",
   "execution_count": 31,
   "metadata": {},
   "outputs": [
    {
     "name": "stdout",
     "output_type": "stream",
     "text": [
      "http://www.allocine.fr/film/fichefilm_gen_cfilm=251390.html 200\n"
     ]
    }
   ],
   "source": [
    "url = movie_links[0]\n",
    "r = requests.get(url)\n",
    "print(url, r.status_code)\n",
    "soup = BeautifulSoup(r.content, \"lxml\")\n",
    "#soup"
   ]
  },
  {
   "cell_type": "markdown",
   "metadata": {},
   "source": [
    "For title \n",
    "```html\n",
    "<div class=\"titlebar-title titlebar-title-lg\">Le Grand Bain</div>\n",
    "```\n",
    "For the synopsis\n",
    "\n",
    "```html\n",
    "<div class=\"content-txt \" itemprop=\"description\"\n",
    "\n",
    " \n",
    "              C’est dans les couloirs de leur piscine municipale que Bertrand, Marcus, Simon, Laurent, Thierry et les autres s’entraînent sous l’autorité toute relative de Delphine, ancienne gloire des bassins. Ensemble, ils se sentent libres et utiles. Ils vont mettre toute leur énergie dans une discipline jusque-là propriété de la gent féminine : la natation synchronisée. Alors, oui c’est une idée plutôt bizarre, mais ce défi leur permettra de trouver un sens à leur vie...\n",
    "    \n",
    "      </div>\n",
    "```"
   ]
  },
  {
   "cell_type": "code",
   "execution_count": 23,
   "metadata": {},
   "outputs": [
    {
     "name": "stdout",
     "output_type": "stream",
     "text": [
      "Doctor Strange in the Multiverse of Madness\n"
     ]
    },
    {
     "data": {
      "text/plain": [
       "'\\nfor elem in soup.find_all(\"div\", attrs={\"class\": \"content-txt \"}):\\n    # Just like that\\n    print(elem.text)'"
      ]
     },
     "execution_count": 23,
     "metadata": {},
     "output_type": "execute_result"
    }
   ],
   "source": [
    "for elem in soup.find_all(\"div\", attrs={\"class\": \"titlebar-title titlebar-title-lg\"}):\n",
    "    # Just like that\n",
    "    print(elem.text)\n",
    "\n",
    "for elem in soup.find_all(\"div\", attrs={\"class\": \"content-txt \"}):\n",
    "    # Just like that\n",
    "    print(elem.text)"
   ]
  },
  {
   "cell_type": "markdown",
   "metadata": {},
   "source": [
    "1) Automate this script for the entire list of movies.\n",
    "\n",
    "2) Put the information in three lists (`film_links`, `title`, `synopsis`).\n",
    "\n",
    "3) Create a `DataFrame` object from the `pandas` library that you will have to install. This dataframe will have to include these three informations in three columns.\n",
    "\n",
    "4) Save this dataframe in a CSV file.\n",
    "\n",
    "And here's your first real scrap, you're real hackers now."
   ]
  },
  {
   "cell_type": "code",
   "execution_count": 2,
   "metadata": {},
   "outputs": [
    {
     "ename": "AttributeError",
     "evalue": "'list' object has no attribute 'find_all'",
     "output_type": "error",
     "traceback": [
      "\u001b[0;31m---------------------------------------------------------------------------\u001b[0m",
      "\u001b[0;31mAttributeError\u001b[0m                            Traceback (most recent call last)",
      "\u001b[0;32m/var/folders/nh/_lkctsl16l393rkzcyztswd80000gn/T/ipykernel_21722/3389516003.py\u001b[0m in \u001b[0;36m<module>\u001b[0;34m\u001b[0m\n\u001b[1;32m      8\u001b[0m \u001b[0msoup\u001b[0m \u001b[0;34m=\u001b[0m \u001b[0;34m[\u001b[0m\u001b[0;34m]\u001b[0m\u001b[0;34m\u001b[0m\u001b[0;34m\u001b[0m\u001b[0m\n\u001b[1;32m      9\u001b[0m \u001b[0mmovie_links\u001b[0m \u001b[0;34m=\u001b[0m \u001b[0;34m[\u001b[0m\u001b[0;34m\"http://www.allocine.fr\"\u001b[0m \u001b[0;34m+\u001b[0m \u001b[0melem\u001b[0m \u001b[0;32mfor\u001b[0m \u001b[0melem\u001b[0m \u001b[0;32min\u001b[0m \u001b[0mlinks\u001b[0m \u001b[0;32mif\u001b[0m \u001b[0;34m\"film\"\u001b[0m \u001b[0;32min\u001b[0m \u001b[0melem\u001b[0m\u001b[0;34m]\u001b[0m\u001b[0;34m\u001b[0m\u001b[0;34m\u001b[0m\u001b[0m\n\u001b[0;32m---> 10\u001b[0;31m \u001b[0;32mfor\u001b[0m \u001b[0melem\u001b[0m \u001b[0;32min\u001b[0m \u001b[0msoup\u001b[0m\u001b[0;34m.\u001b[0m\u001b[0mfind_all\u001b[0m\u001b[0;34m(\u001b[0m\u001b[0mstr\u001b[0m\u001b[0;34m(\u001b[0m\u001b[0;34m\"a\"\u001b[0m\u001b[0;34m,\u001b[0m \u001b[0mattrs\u001b[0m\u001b[0;34m=\u001b[0m\u001b[0;34m{\u001b[0m\u001b[0;34m\"class\"\u001b[0m\u001b[0;34m:\u001b[0m \u001b[0;34m\"meta-title meta-title-link\"\u001b[0m\u001b[0;34m}\u001b[0m\u001b[0;34m)\u001b[0m\u001b[0;34m)\u001b[0m\u001b[0;34m:\u001b[0m\u001b[0;34m\u001b[0m\u001b[0;34m\u001b[0m\u001b[0m\n\u001b[0m\u001b[1;32m     11\u001b[0m     \u001b[0mlinks\u001b[0m\u001b[0;34m.\u001b[0m\u001b[0mappend\u001b[0m\u001b[0;34m(\u001b[0m\u001b[0melem\u001b[0m\u001b[0;34m.\u001b[0m\u001b[0mget\u001b[0m\u001b[0;34m(\u001b[0m\u001b[0;34m\"href\"\u001b[0m\u001b[0;34m)\u001b[0m\u001b[0;34m)\u001b[0m\u001b[0;34m\u001b[0m\u001b[0;34m\u001b[0m\u001b[0m\n\u001b[1;32m     12\u001b[0m     \u001b[0mmovie_links\u001b[0m \u001b[0;34m=\u001b[0m \u001b[0;34m[\u001b[0m\u001b[0;34m\"http://www.allocine.fr\"\u001b[0m \u001b[0;34m+\u001b[0m \u001b[0melem\u001b[0m \u001b[0;32mfor\u001b[0m \u001b[0melem\u001b[0m \u001b[0;32min\u001b[0m \u001b[0mlinks\u001b[0m \u001b[0;32mif\u001b[0m \u001b[0;34m\"film\"\u001b[0m \u001b[0;32min\u001b[0m \u001b[0melem\u001b[0m\u001b[0;34m]\u001b[0m\u001b[0;34m\u001b[0m\u001b[0;34m\u001b[0m\u001b[0m\n",
      "\u001b[0;31mAttributeError\u001b[0m: 'list' object has no attribute 'find_all'"
     ]
    }
   ],
   "source": [
    "from bs4 import BeautifulSoup\n",
    "import requests\n",
    "import time\n",
    "import re\n",
    "import random\n",
    "from random import randint\n",
    "links = []\n",
    "soup = []\n",
    "movie_links = [\"http://www.allocine.fr\" + elem for elem in links if \"film\" in elem]\n",
    "for elem in soup.find_all(\"a\", attrs={\"class\": \"meta-title meta-title-link\"}):\n",
    "    links.append(elem.get(\"href\"))\n",
    "    movie_links = [\"http://www.allocine.fr\" + elem for elem in links if \"film\" in elem]\n",
    "\n",
    "\n",
    "print(links)\n",
    "\n",
    "title = []\n",
    "synopsis = []\n",
    "\n",
    "for elem in soup.find_all(\"div\", attrs={\"class\": \"titlebar-title titlebar-title-lg\"}):\n",
    "    # Just like that\n",
    "    url = movie_links[x]\n",
    "    r = requests.get(url)\n",
    "    print(url, r.status_code)\n",
    "    soup = BeautifulSoup(r.content, \"lxml\")\n",
    "    x += 1\n",
    "\n",
    "\n",
    "    t = (elem.text)\n",
    "    print(t)\n",
    "    time.sleep(1)\n",
    "    title.append(t.group(\"div\"))\n",
    "        \n",
    "\n",
    "# Here are the things you will have to do for all links:\n",
    "# - Slow down the frequency of requests to avoid being identified and therefore banned from the website.\n",
    "# Use `time.sleep(random.uniform(1.0, 2.0))`\n",
    "# - Get request object from URL\n",
    "# - Extract the content into a variable using BeautifulSoup\n",
    "# - Get title\n",
    "# - Get synopsis\n",
    "\n",
    "# Check the length of the lists before creating the dataframe\n",
    "len(title), len(synopsis), len(movie_links)"
   ]
  },
  {
   "cell_type": "code",
   "execution_count": null,
   "metadata": {},
   "outputs": [],
   "source": [
    "import pandas as pd\n",
    "\n",
    "df = pd.DataFrame({\"Title\": title})\n",
    "df[\"Synopsis\"] = synopsis\n",
    "df[\"Links\"] = movie_links"
   ]
  },
  {
   "cell_type": "code",
   "execution_count": null,
   "metadata": {},
   "outputs": [],
   "source": [
    "df.to_csv(\"./assets/allo_cine.csv\", index=False)"
   ]
  }
 ],
 "metadata": {
  "interpreter": {
   "hash": "aee8b7b246df8f9039afb4144a1f6fd8d2ca17a180786b69acc140d282b71a49"
  },
  "kernelspec": {
   "display_name": "Python 3.10.4 64-bit",
   "language": "python",
   "name": "python3"
  },
  "language_info": {
   "codemirror_mode": {
    "name": "ipython",
    "version": 3
   },
   "file_extension": ".py",
   "mimetype": "text/x-python",
   "name": "python",
   "nbconvert_exporter": "python",
   "pygments_lexer": "ipython3",
   "version": "3.10.4"
  }
 },
 "nbformat": 4,
 "nbformat_minor": 4
}
